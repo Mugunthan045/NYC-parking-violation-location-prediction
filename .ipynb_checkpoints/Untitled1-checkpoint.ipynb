{
 "cells": [
  {
   "cell_type": "code",
   "execution_count": 1,
   "id": "1ada64ff",
   "metadata": {},
   "outputs": [],
   "source": [
    "import pyspark\n",
    "import pandas as pd\n",
    "import seaborn as sns\n",
    "import matplotlib.pyplot as plt\n",
    "from pyspark.sql import SparkSession\n",
    "from pyspark.sql import functions as func\n",
    "from pyspark.sql.types import IntegerType,StringType,DoubleType\n",
    "from pyspark.ml.stat import Correlation\n",
    "from pyspark.ml.feature import StringIndexer\n",
    "from pyspark.sql import SparkSession\n",
    "from pyspark.ml import Pipeline\n",
    "from pyspark.ml.feature import VectorAssembler\n",
    "from pyspark.ml.classification import RandomForestClassifier\n",
    "from pyspark.ml.evaluation import MulticlassClassificationEvaluator\n",
    "from pyspark.ml.classification import DecisionTreeClassifier\n",
    "from pyspark.sql.functions import split,udf,col,regexp_replace"
   ]
  },
  {
   "cell_type": "code",
   "execution_count": 2,
   "id": "2ca39ffd",
   "metadata": {},
   "outputs": [],
   "source": [
    "conf = pyspark.SparkConf().setMaster('local[*]') \\\n",
    "        .set('spark.executor.heartbeatInterval', 10000) \\\n",
    "        .set('spark.network.timeout', 10000) \\\n",
    "        .set('spark.core.connection.ack.wait.timeout', '3600')\n",
    "spark = SparkSession \\\n",
    "        .builder \\\n",
    "        .appName('parking_model') \\\n",
    "        .config(conf=conf) \\\n",
    "        .getOrCreate()"
   ]
  },
  {
   "cell_type": "code",
   "execution_count": 3,
   "id": "e3a40989",
   "metadata": {},
   "outputs": [],
   "source": [
    "from pyspark import SparkContext\n",
    "sc = SparkContext.getOrCreate()"
   ]
  },
  {
   "cell_type": "code",
   "execution_count": 4,
   "id": "47047840",
   "metadata": {},
   "outputs": [],
   "source": [
    "df = spark.read.csv('./processed_parking.csv',header=True,inferSchema=True)"
   ]
  },
  {
   "cell_type": "code",
   "execution_count": 5,
   "id": "0697fa18",
   "metadata": {},
   "outputs": [],
   "source": [
    "index = [StringIndexer(inputCol=column, outputCol=column+\"_index\",handleInvalid='keep').fit(df) for column in list(set(df.columns)-set(['Month','Day','Time_Hour','Violation_County']))]\n",
    "target_index = StringIndexer(inputCol=\"Violation_County\", outputCol=\"label\",handleInvalid='keep').fit(df)\n",
    "assembler = VectorAssembler(inputCols=['Month','Day','Time_Hour','Violation_In_Front_Of_Or_Opposite_index','Street_Code1_index','Issuer_Command_index','Violation_Location_index','Vehicle_Body_Type_index','Meridiem_index','Registration_State_index','Plate_Type_index','Issuer_Precinct_index','Street_Code2_index','Issuing_Agency_index','Violation_Code_index','Vehicle_Make_index','Street_Code3_index'],outputCol='features')"
   ]
  },
  {
   "cell_type": "code",
   "execution_count": 6,
   "id": "ed8c89db",
   "metadata": {},
   "outputs": [],
   "source": [
    "pipeline = Pipeline(stages=index+[target_index,assembler])\n",
    "df = pipeline.fit(df).transform(df)\n"
   ]
  },
  {
   "cell_type": "code",
   "execution_count": 7,
   "id": "56cdd5f8",
   "metadata": {},
   "outputs": [],
   "source": [
    "train, test = df.randomSplit([0.8,0.2])"
   ]
  },
  {
   "cell_type": "code",
   "execution_count": 13,
   "id": "a630b92e",
   "metadata": {},
   "outputs": [],
   "source": [
    "test3 = test.drop(*['Registration_State',\n",
    " 'Plate_Type',\n",
    " 'Violation_Code',\n",
    " 'Vehicle_Body_Type',\n",
    " 'Vehicle_Make',\n",
    " 'Issuing_Agency',\n",
    " 'Street_Code1',\n",
    " 'Street_Code2',\n",
    " 'Street_Code3',\n",
    " 'Violation_Location',\n",
    " 'Issuer_Precinct',\n",
    " 'Issuer_Command',\n",
    " 'Violation_County',\n",
    " 'Violation_In_Front_Of_Or_Opposite',\n",
    " 'Meridiem','features'])"
   ]
  },
  {
   "cell_type": "code",
   "execution_count": 14,
   "id": "d00c1551",
   "metadata": {},
   "outputs": [],
   "source": [
    "test3 = test3.limit(10000)\n"
   ]
  },
  {
   "cell_type": "code",
   "execution_count": 15,
   "id": "e6dda37c",
   "metadata": {},
   "outputs": [
    {
     "data": {
      "text/plain": [
       "['Month',\n",
       " 'Day',\n",
       " 'Time_Hour',\n",
       " 'Violation_In_Front_Of_Or_Opposite_index',\n",
       " 'Vehicle_Make_index',\n",
       " 'Vehicle_Body_Type_index',\n",
       " 'Registration_State_index',\n",
       " 'Plate_Type_index',\n",
       " 'Street_Code1_index',\n",
       " 'Violation_Code_index',\n",
       " 'Issuer_Precinct_index',\n",
       " 'Issuing_Agency_index',\n",
       " 'Issuer_Command_index',\n",
       " 'Street_Code3_index',\n",
       " 'Meridiem_index',\n",
       " 'Street_Code2_index',\n",
       " 'Violation_Location_index',\n",
       " 'label']"
      ]
     },
     "execution_count": 15,
     "metadata": {},
     "output_type": "execute_result"
    }
   ],
   "source": [
    "test3.columns"
   ]
  },
  {
   "cell_type": "code",
   "execution_count": 16,
   "id": "c355e40f",
   "metadata": {},
   "outputs": [],
   "source": [
    "test3.toPandas().to_csv('./test_4.csv')"
   ]
  },
  {
   "cell_type": "code",
   "execution_count": 17,
   "id": "cdb8d11b",
   "metadata": {},
   "outputs": [
    {
     "data": {
      "text/plain": [
       "['Month',\n",
       " 'Day',\n",
       " 'Time_Hour',\n",
       " 'Violation_In_Front_Of_Or_Opposite_index',\n",
       " 'Vehicle_Make_index',\n",
       " 'Vehicle_Body_Type_index',\n",
       " 'Registration_State_index',\n",
       " 'Plate_Type_index',\n",
       " 'Street_Code1_index',\n",
       " 'Violation_Code_index',\n",
       " 'Issuer_Precinct_index',\n",
       " 'Issuing_Agency_index',\n",
       " 'Issuer_Command_index',\n",
       " 'Street_Code3_index',\n",
       " 'Meridiem_index',\n",
       " 'Street_Code2_index',\n",
       " 'Violation_Location_index',\n",
       " 'label']"
      ]
     },
     "execution_count": 17,
     "metadata": {},
     "output_type": "execute_result"
    }
   ],
   "source": [
    "test3.columns"
   ]
  },
  {
   "cell_type": "code",
   "execution_count": 18,
   "id": "dd0a0845",
   "metadata": {},
   "outputs": [
    {
     "name": "stdout",
     "output_type": "stream",
     "text": [
      "root\n",
      " |-- Month: double (nullable = true)\n",
      " |-- Day: double (nullable = true)\n",
      " |-- Time_Hour: double (nullable = true)\n",
      " |-- Violation_In_Front_Of_Or_Opposite_index: double (nullable = false)\n",
      " |-- Vehicle_Make_index: double (nullable = false)\n",
      " |-- Vehicle_Body_Type_index: double (nullable = false)\n",
      " |-- Registration_State_index: double (nullable = false)\n",
      " |-- Plate_Type_index: double (nullable = false)\n",
      " |-- Street_Code1_index: double (nullable = false)\n",
      " |-- Violation_Code_index: double (nullable = false)\n",
      " |-- Issuer_Precinct_index: double (nullable = false)\n",
      " |-- Issuing_Agency_index: double (nullable = false)\n",
      " |-- Issuer_Command_index: double (nullable = false)\n",
      " |-- Street_Code3_index: double (nullable = false)\n",
      " |-- Meridiem_index: double (nullable = false)\n",
      " |-- Street_Code2_index: double (nullable = false)\n",
      " |-- Violation_Location_index: double (nullable = false)\n",
      " |-- label: double (nullable = false)\n",
      "\n"
     ]
    }
   ],
   "source": [
    "test3.printSchema()"
   ]
  },
  {
   "cell_type": "code",
   "execution_count": 11,
   "id": "f33873bb",
   "metadata": {},
   "outputs": [],
   "source": [
    "dt = DecisionTreeClassifier(labelCol=\"label\", featuresCol=\"features\",maxBins=6700)\n",
    "model_dt = dt.fit(train)"
   ]
  },
  {
   "cell_type": "code",
   "execution_count": 12,
   "id": "123dab63",
   "metadata": {},
   "outputs": [],
   "source": [
    "pred_dt = model_dt.transform(test2)"
   ]
  },
  {
   "cell_type": "code",
   "execution_count": 13,
   "id": "d4cc2c95",
   "metadata": {},
   "outputs": [
    {
     "name": "stdout",
     "output_type": "stream",
     "text": [
      "Accuracy for Decision Tree = 0.8007873942611157\n",
      "Test Error for Decision Tree = 0.19921260573888433\n"
     ]
    }
   ],
   "source": [
    "evaluator = MulticlassClassificationEvaluator(labelCol='label',predictionCol='prediction')\n",
    "accuracy_dt = evaluator.evaluate(pred_dt)\n",
    "print(\"Accuracy for Decision Tree = %s\" % (accuracy_dt))\n",
    "print(\"Test Error for Decision Tree = %s\" % (1.0 - accuracy_dt))"
   ]
  },
  {
   "cell_type": "code",
   "execution_count": 27,
   "id": "b853b45e",
   "metadata": {},
   "outputs": [
    {
     "name": "stdout",
     "output_type": "stream",
     "text": [
      "root\n",
      " |-- label: double (nullable = false)\n",
      " |-- features: vector (nullable = true)\n",
      "\n"
     ]
    }
   ],
   "source": [
    "test2.printSchema()"
   ]
  },
  {
   "cell_type": "code",
   "execution_count": 21,
   "id": "d1701541",
   "metadata": {},
   "outputs": [
    {
     "ename": "NameError",
     "evalue": "name 'count' is not defined",
     "output_type": "error",
     "traceback": [
      "\u001b[1;31m---------------------------------------------------------------------------\u001b[0m",
      "\u001b[1;31mNameError\u001b[0m                                 Traceback (most recent call last)",
      "\u001b[1;32m<ipython-input-21-e202d15660e6>\u001b[0m in \u001b[0;36m<module>\u001b[1;34m\u001b[0m\n\u001b[1;32m----> 1\u001b[1;33m test3.select([count(when(isnan(c) | col(c).isNull(), c)).alias(c) for c in test3.columns]\n\u001b[0m\u001b[0;32m      2\u001b[0m    ).show()\n",
      "\u001b[1;32m<ipython-input-21-e202d15660e6>\u001b[0m in \u001b[0;36m<listcomp>\u001b[1;34m(.0)\u001b[0m\n\u001b[1;32m----> 1\u001b[1;33m test3.select([count(when(isnan(c) | col(c).isNull(), c)).alias(c) for c in test3.columns]\n\u001b[0m\u001b[0;32m      2\u001b[0m    ).show()\n",
      "\u001b[1;31mNameError\u001b[0m: name 'count' is not defined"
     ]
    }
   ],
   "source": [
    "from pyspark.sql.functions import *\n",
    "\n",
    "test3.select([count(when(isnan(c) | col(c).isNull(), c)).alias(c) for c in test3.columns]\n",
    "   ).show()"
   ]
  },
  {
   "cell_type": "code",
   "execution_count": null,
   "id": "74a47cf0",
   "metadata": {},
   "outputs": [],
   "source": [
    "test3.columns"
   ]
  },
  {
   "cell_type": "code",
   "execution_count": 16,
   "id": "69ae3063",
   "metadata": {},
   "outputs": [
    {
     "data": {
      "text/plain": [
       "1641136"
      ]
     },
     "execution_count": 16,
     "metadata": {},
     "output_type": "execute_result"
    }
   ],
   "source": [
    "test2.count()"
   ]
  },
  {
   "cell_type": "code",
   "execution_count": null,
   "id": "18ac637a",
   "metadata": {},
   "outputs": [],
   "source": []
  }
 ],
 "metadata": {
  "kernelspec": {
   "display_name": "Python 3",
   "language": "python",
   "name": "python3"
  },
  "language_info": {
   "codemirror_mode": {
    "name": "ipython",
    "version": 3
   },
   "file_extension": ".py",
   "mimetype": "text/x-python",
   "name": "python",
   "nbconvert_exporter": "python",
   "pygments_lexer": "ipython3",
   "version": "3.8.8"
  }
 },
 "nbformat": 4,
 "nbformat_minor": 5
}
