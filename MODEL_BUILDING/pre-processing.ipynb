{
 "cells": [
  {
   "cell_type": "code",
   "execution_count": 1,
   "id": "d8735819",
   "metadata": {},
   "outputs": [],
   "source": [
    "import pyspark\n",
    "import pandas as pd\n",
    "import seaborn as sns\n",
    "import matplotlib.pyplot as plt\n",
    "from pyspark.sql import SparkSession\n",
    "from pyspark.sql import functions as func\n",
    "from pyspark.sql.types import IntegerType,StringType,DoubleType\n",
    "from pyspark.ml.stat import Correlation\n",
    "from pyspark.sql.functions import split,udf,col,regexp_replace"
   ]
  },
  {
   "cell_type": "markdown",
   "id": "a6417134",
   "metadata": {},
   "source": [
    "## Creating a spark session"
   ]
  },
  {
   "cell_type": "code",
   "execution_count": 2,
   "id": "61ce8212",
   "metadata": {},
   "outputs": [],
   "source": [
    "conf = pyspark.SparkConf().setMaster('local[*]') \\\n",
    "        .set('spark.executor.heartbeatInterval', 10000) \\\n",
    "        .set('spark.network.timeout', 10000) \\\n",
    "        .set('spark.core.connection.ack.wait.timeout', '3600')\n",
    "spark = SparkSession \\\n",
    "        .builder \\\n",
    "        .appName('parking') \\\n",
    "        .config(conf=conf) \\\n",
    "        .getOrCreate()"
   ]
  },
  {
   "cell_type": "markdown",
   "id": "14481891",
   "metadata": {},
   "source": [
    "## Loading dataset and overview"
   ]
  },
  {
   "cell_type": "code",
   "execution_count": 3,
   "id": "9511e247",
   "metadata": {},
   "outputs": [],
   "source": [
    "df = spark.read.csv('./parking.csv',header=True,inferSchema=True)"
   ]
  },
  {
   "cell_type": "code",
   "execution_count": 4,
   "id": "26eac935",
   "metadata": {},
   "outputs": [
    {
     "data": {
      "text/html": [
       "<div>\n",
       "<style scoped>\n",
       "    .dataframe tbody tr th:only-of-type {\n",
       "        vertical-align: middle;\n",
       "    }\n",
       "\n",
       "    .dataframe tbody tr th {\n",
       "        vertical-align: top;\n",
       "    }\n",
       "\n",
       "    .dataframe thead th {\n",
       "        text-align: right;\n",
       "    }\n",
       "</style>\n",
       "<table border=\"1\" class=\"dataframe\">\n",
       "  <thead>\n",
       "    <tr style=\"text-align: right;\">\n",
       "      <th></th>\n",
       "      <th>column Name</th>\n",
       "      <th>Data type</th>\n",
       "    </tr>\n",
       "  </thead>\n",
       "  <tbody>\n",
       "    <tr>\n",
       "      <th>0</th>\n",
       "      <td>Summons Number</td>\n",
       "      <td>bigint</td>\n",
       "    </tr>\n",
       "    <tr>\n",
       "      <th>1</th>\n",
       "      <td>Plate ID</td>\n",
       "      <td>string</td>\n",
       "    </tr>\n",
       "    <tr>\n",
       "      <th>2</th>\n",
       "      <td>Registration State</td>\n",
       "      <td>string</td>\n",
       "    </tr>\n",
       "    <tr>\n",
       "      <th>3</th>\n",
       "      <td>Plate Type</td>\n",
       "      <td>string</td>\n",
       "    </tr>\n",
       "    <tr>\n",
       "      <th>4</th>\n",
       "      <td>Issue Date</td>\n",
       "      <td>string</td>\n",
       "    </tr>\n",
       "    <tr>\n",
       "      <th>5</th>\n",
       "      <td>Violation Code</td>\n",
       "      <td>int</td>\n",
       "    </tr>\n",
       "    <tr>\n",
       "      <th>6</th>\n",
       "      <td>Vehicle Body Type</td>\n",
       "      <td>string</td>\n",
       "    </tr>\n",
       "    <tr>\n",
       "      <th>7</th>\n",
       "      <td>Vehicle Make</td>\n",
       "      <td>string</td>\n",
       "    </tr>\n",
       "    <tr>\n",
       "      <th>8</th>\n",
       "      <td>Issuing Agency</td>\n",
       "      <td>string</td>\n",
       "    </tr>\n",
       "    <tr>\n",
       "      <th>9</th>\n",
       "      <td>Street Code1</td>\n",
       "      <td>int</td>\n",
       "    </tr>\n",
       "    <tr>\n",
       "      <th>10</th>\n",
       "      <td>Street Code2</td>\n",
       "      <td>int</td>\n",
       "    </tr>\n",
       "    <tr>\n",
       "      <th>11</th>\n",
       "      <td>Street Code3</td>\n",
       "      <td>int</td>\n",
       "    </tr>\n",
       "    <tr>\n",
       "      <th>12</th>\n",
       "      <td>Vehicle Expiration Date</td>\n",
       "      <td>int</td>\n",
       "    </tr>\n",
       "    <tr>\n",
       "      <th>13</th>\n",
       "      <td>Violation Location</td>\n",
       "      <td>int</td>\n",
       "    </tr>\n",
       "    <tr>\n",
       "      <th>14</th>\n",
       "      <td>Violation Precinct</td>\n",
       "      <td>int</td>\n",
       "    </tr>\n",
       "    <tr>\n",
       "      <th>15</th>\n",
       "      <td>Issuer Precinct</td>\n",
       "      <td>int</td>\n",
       "    </tr>\n",
       "    <tr>\n",
       "      <th>16</th>\n",
       "      <td>Issuer Code</td>\n",
       "      <td>int</td>\n",
       "    </tr>\n",
       "    <tr>\n",
       "      <th>17</th>\n",
       "      <td>Issuer Command</td>\n",
       "      <td>string</td>\n",
       "    </tr>\n",
       "    <tr>\n",
       "      <th>18</th>\n",
       "      <td>Issuer Squad</td>\n",
       "      <td>string</td>\n",
       "    </tr>\n",
       "    <tr>\n",
       "      <th>19</th>\n",
       "      <td>Violation Time</td>\n",
       "      <td>string</td>\n",
       "    </tr>\n",
       "    <tr>\n",
       "      <th>20</th>\n",
       "      <td>Time First Observed</td>\n",
       "      <td>string</td>\n",
       "    </tr>\n",
       "    <tr>\n",
       "      <th>21</th>\n",
       "      <td>Violation County</td>\n",
       "      <td>string</td>\n",
       "    </tr>\n",
       "    <tr>\n",
       "      <th>22</th>\n",
       "      <td>Violation In Front Of Or Opposite</td>\n",
       "      <td>string</td>\n",
       "    </tr>\n",
       "    <tr>\n",
       "      <th>23</th>\n",
       "      <td>House Number</td>\n",
       "      <td>string</td>\n",
       "    </tr>\n",
       "    <tr>\n",
       "      <th>24</th>\n",
       "      <td>Street Name</td>\n",
       "      <td>string</td>\n",
       "    </tr>\n",
       "    <tr>\n",
       "      <th>25</th>\n",
       "      <td>Intersecting Street</td>\n",
       "      <td>string</td>\n",
       "    </tr>\n",
       "    <tr>\n",
       "      <th>26</th>\n",
       "      <td>Date First Observed</td>\n",
       "      <td>string</td>\n",
       "    </tr>\n",
       "    <tr>\n",
       "      <th>27</th>\n",
       "      <td>Law Section</td>\n",
       "      <td>string</td>\n",
       "    </tr>\n",
       "    <tr>\n",
       "      <th>28</th>\n",
       "      <td>Sub Division</td>\n",
       "      <td>string</td>\n",
       "    </tr>\n",
       "    <tr>\n",
       "      <th>29</th>\n",
       "      <td>Violation Legal Code</td>\n",
       "      <td>string</td>\n",
       "    </tr>\n",
       "    <tr>\n",
       "      <th>30</th>\n",
       "      <td>Days Parking In Effect</td>\n",
       "      <td>string</td>\n",
       "    </tr>\n",
       "    <tr>\n",
       "      <th>31</th>\n",
       "      <td>From Hours In Effect</td>\n",
       "      <td>string</td>\n",
       "    </tr>\n",
       "    <tr>\n",
       "      <th>32</th>\n",
       "      <td>To Hours In Effect</td>\n",
       "      <td>string</td>\n",
       "    </tr>\n",
       "    <tr>\n",
       "      <th>33</th>\n",
       "      <td>Vehicle Color</td>\n",
       "      <td>string</td>\n",
       "    </tr>\n",
       "    <tr>\n",
       "      <th>34</th>\n",
       "      <td>Unregistered Vehicle?</td>\n",
       "      <td>string</td>\n",
       "    </tr>\n",
       "    <tr>\n",
       "      <th>35</th>\n",
       "      <td>Vehicle Year</td>\n",
       "      <td>string</td>\n",
       "    </tr>\n",
       "    <tr>\n",
       "      <th>36</th>\n",
       "      <td>Meter Number</td>\n",
       "      <td>string</td>\n",
       "    </tr>\n",
       "    <tr>\n",
       "      <th>37</th>\n",
       "      <td>Feet From Curb</td>\n",
       "      <td>string</td>\n",
       "    </tr>\n",
       "    <tr>\n",
       "      <th>38</th>\n",
       "      <td>Violation Post Code</td>\n",
       "      <td>string</td>\n",
       "    </tr>\n",
       "    <tr>\n",
       "      <th>39</th>\n",
       "      <td>Violation Description</td>\n",
       "      <td>string</td>\n",
       "    </tr>\n",
       "    <tr>\n",
       "      <th>40</th>\n",
       "      <td>No Standing or Stopping Violation</td>\n",
       "      <td>string</td>\n",
       "    </tr>\n",
       "    <tr>\n",
       "      <th>41</th>\n",
       "      <td>Hydrant Violation</td>\n",
       "      <td>string</td>\n",
       "    </tr>\n",
       "    <tr>\n",
       "      <th>42</th>\n",
       "      <td>Double Parking Violation</td>\n",
       "      <td>string</td>\n",
       "    </tr>\n",
       "    <tr>\n",
       "      <th>43</th>\n",
       "      <td>Latitude</td>\n",
       "      <td>string</td>\n",
       "    </tr>\n",
       "    <tr>\n",
       "      <th>44</th>\n",
       "      <td>Longitude</td>\n",
       "      <td>string</td>\n",
       "    </tr>\n",
       "    <tr>\n",
       "      <th>45</th>\n",
       "      <td>Community Board</td>\n",
       "      <td>string</td>\n",
       "    </tr>\n",
       "    <tr>\n",
       "      <th>46</th>\n",
       "      <td>Community Council</td>\n",
       "      <td>string</td>\n",
       "    </tr>\n",
       "    <tr>\n",
       "      <th>47</th>\n",
       "      <td>Census Tract</td>\n",
       "      <td>string</td>\n",
       "    </tr>\n",
       "    <tr>\n",
       "      <th>48</th>\n",
       "      <td>BIN</td>\n",
       "      <td>string</td>\n",
       "    </tr>\n",
       "    <tr>\n",
       "      <th>49</th>\n",
       "      <td>BBL</td>\n",
       "      <td>string</td>\n",
       "    </tr>\n",
       "    <tr>\n",
       "      <th>50</th>\n",
       "      <td>NTA</td>\n",
       "      <td>string</td>\n",
       "    </tr>\n",
       "  </tbody>\n",
       "</table>\n",
       "</div>"
      ],
      "text/plain": [
       "                          column Name Data type\n",
       "0                      Summons Number    bigint\n",
       "1                            Plate ID    string\n",
       "2                  Registration State    string\n",
       "3                          Plate Type    string\n",
       "4                          Issue Date    string\n",
       "5                      Violation Code       int\n",
       "6                   Vehicle Body Type    string\n",
       "7                        Vehicle Make    string\n",
       "8                      Issuing Agency    string\n",
       "9                        Street Code1       int\n",
       "10                       Street Code2       int\n",
       "11                       Street Code3       int\n",
       "12            Vehicle Expiration Date       int\n",
       "13                 Violation Location       int\n",
       "14                 Violation Precinct       int\n",
       "15                    Issuer Precinct       int\n",
       "16                        Issuer Code       int\n",
       "17                     Issuer Command    string\n",
       "18                       Issuer Squad    string\n",
       "19                     Violation Time    string\n",
       "20                Time First Observed    string\n",
       "21                   Violation County    string\n",
       "22  Violation In Front Of Or Opposite    string\n",
       "23                       House Number    string\n",
       "24                        Street Name    string\n",
       "25                Intersecting Street    string\n",
       "26                Date First Observed    string\n",
       "27                        Law Section    string\n",
       "28                       Sub Division    string\n",
       "29               Violation Legal Code    string\n",
       "30         Days Parking In Effect        string\n",
       "31               From Hours In Effect    string\n",
       "32                 To Hours In Effect    string\n",
       "33                      Vehicle Color    string\n",
       "34              Unregistered Vehicle?    string\n",
       "35                       Vehicle Year    string\n",
       "36                       Meter Number    string\n",
       "37                     Feet From Curb    string\n",
       "38                Violation Post Code    string\n",
       "39              Violation Description    string\n",
       "40  No Standing or Stopping Violation    string\n",
       "41                  Hydrant Violation    string\n",
       "42           Double Parking Violation    string\n",
       "43                           Latitude    string\n",
       "44                          Longitude    string\n",
       "45                    Community Board    string\n",
       "46                 Community Council     string\n",
       "47                       Census Tract    string\n",
       "48                                BIN    string\n",
       "49                                BBL    string\n",
       "50                                NTA    string"
      ]
     },
     "execution_count": 4,
     "metadata": {},
     "output_type": "execute_result"
    }
   ],
   "source": [
    "pd.DataFrame(df.dtypes,columns=['column Name', 'Data type'])"
   ]
  },
  {
   "cell_type": "code",
   "execution_count": 5,
   "id": "830acf04",
   "metadata": {},
   "outputs": [
    {
     "data": {
      "text/html": [
       "<div>\n",
       "<style scoped>\n",
       "    .dataframe tbody tr th:only-of-type {\n",
       "        vertical-align: middle;\n",
       "    }\n",
       "\n",
       "    .dataframe tbody tr th {\n",
       "        vertical-align: top;\n",
       "    }\n",
       "\n",
       "    .dataframe thead th {\n",
       "        text-align: right;\n",
       "    }\n",
       "</style>\n",
       "<table border=\"1\" class=\"dataframe\">\n",
       "  <thead>\n",
       "    <tr style=\"text-align: right;\">\n",
       "      <th></th>\n",
       "      <th>summary</th>\n",
       "      <th>Summons Number</th>\n",
       "      <th>Plate ID</th>\n",
       "      <th>Registration State</th>\n",
       "      <th>Plate Type</th>\n",
       "      <th>Issue Date</th>\n",
       "      <th>Violation Code</th>\n",
       "      <th>Vehicle Body Type</th>\n",
       "      <th>Vehicle Make</th>\n",
       "      <th>Issuing Agency</th>\n",
       "      <th>...</th>\n",
       "      <th>Hydrant Violation</th>\n",
       "      <th>Double Parking Violation</th>\n",
       "      <th>Latitude</th>\n",
       "      <th>Longitude</th>\n",
       "      <th>Community Board</th>\n",
       "      <th>Community Council</th>\n",
       "      <th>Census Tract</th>\n",
       "      <th>BIN</th>\n",
       "      <th>BBL</th>\n",
       "      <th>NTA</th>\n",
       "    </tr>\n",
       "  </thead>\n",
       "  <tbody>\n",
       "    <tr>\n",
       "      <th>0</th>\n",
       "      <td>count</td>\n",
       "      <td>9100278</td>\n",
       "      <td>9100276</td>\n",
       "      <td>9100278</td>\n",
       "      <td>9100278</td>\n",
       "      <td>9100278</td>\n",
       "      <td>9100278</td>\n",
       "      <td>8989410</td>\n",
       "      <td>9037103</td>\n",
       "      <td>9100278</td>\n",
       "      <td>...</td>\n",
       "      <td>1</td>\n",
       "      <td>1</td>\n",
       "      <td>1</td>\n",
       "      <td>1</td>\n",
       "      <td>1</td>\n",
       "      <td>1</td>\n",
       "      <td>1</td>\n",
       "      <td>1</td>\n",
       "      <td>1</td>\n",
       "      <td>1</td>\n",
       "    </tr>\n",
       "    <tr>\n",
       "      <th>1</th>\n",
       "      <td>mean</td>\n",
       "      <td>6.486507134673543E9</td>\n",
       "      <td>NaN</td>\n",
       "      <td>99.0</td>\n",
       "      <td>999.0</td>\n",
       "      <td>None</td>\n",
       "      <td>35.25493495912982</td>\n",
       "      <td>5.256613226452906</td>\n",
       "      <td>4555.626865671642</td>\n",
       "      <td>None</td>\n",
       "      <td>...</td>\n",
       "      <td>None</td>\n",
       "      <td>None</td>\n",
       "      <td>None</td>\n",
       "      <td>None</td>\n",
       "      <td>None</td>\n",
       "      <td>None</td>\n",
       "      <td>None</td>\n",
       "      <td>None</td>\n",
       "      <td>None</td>\n",
       "      <td>None</td>\n",
       "    </tr>\n",
       "    <tr>\n",
       "      <th>2</th>\n",
       "      <td>stddev</td>\n",
       "      <td>2.1664474212002106E9</td>\n",
       "      <td>NaN</td>\n",
       "      <td>0.0</td>\n",
       "      <td>9.85113404791972E-14</td>\n",
       "      <td>None</td>\n",
       "      <td>20.50547511932227</td>\n",
       "      <td>23.127694456636892</td>\n",
       "      <td>12905.597273858535</td>\n",
       "      <td>None</td>\n",
       "      <td>...</td>\n",
       "      <td>None</td>\n",
       "      <td>None</td>\n",
       "      <td>None</td>\n",
       "      <td>None</td>\n",
       "      <td>None</td>\n",
       "      <td>None</td>\n",
       "      <td>None</td>\n",
       "      <td>None</td>\n",
       "      <td>None</td>\n",
       "      <td>None</td>\n",
       "    </tr>\n",
       "    <tr>\n",
       "      <th>3</th>\n",
       "      <td>min</td>\n",
       "      <td>1001793950</td>\n",
       "      <td>!</td>\n",
       "      <td>99</td>\n",
       "      <td>999</td>\n",
       "      <td>01/01/1981</td>\n",
       "      <td>0</td>\n",
       "      <td>-</td>\n",
       "      <td>(UPS)</td>\n",
       "      <td>A</td>\n",
       "      <td>...</td>\n",
       "      <td>{\"\"id\"\":135110655</td>\n",
       "      <td>name\"\":\"\"Drug Maximum Out of Pocket - individu...</td>\n",
       "      <td>dataTypeName\"\":\"\"text</td>\n",
       "      <td>fieldName\"\":\"\"drug_maximum_out_of_pocket_indiv...</td>\n",
       "      <td>position\"\":64</td>\n",
       "      <td>tableColumnId\"\":16639867</td>\n",
       "      <td>width\"\":700</td>\n",
       "      <td>format\"\":{}</td>\n",
       "      <td>metadata\"\":{}}</td>\n",
       "      <td>{\"\"id\"\":135110656</td>\n",
       "    </tr>\n",
       "    <tr>\n",
       "      <th>4</th>\n",
       "      <td>max</td>\n",
       "      <td>8006150291</td>\n",
       "      <td>]</td>\n",
       "      <td>YT</td>\n",
       "      <td>WUG</td>\n",
       "      <td>12/31/2031</td>\n",
       "      <td>99</td>\n",
       "      <td>ZSR</td>\n",
       "      <td>`</td>\n",
       "      <td>X</td>\n",
       "      <td>...</td>\n",
       "      <td>{\"\"id\"\":135110655</td>\n",
       "      <td>name\"\":\"\"Drug Maximum Out of Pocket - individu...</td>\n",
       "      <td>dataTypeName\"\":\"\"text</td>\n",
       "      <td>fieldName\"\":\"\"drug_maximum_out_of_pocket_indiv...</td>\n",
       "      <td>position\"\":64</td>\n",
       "      <td>tableColumnId\"\":16639867</td>\n",
       "      <td>width\"\":700</td>\n",
       "      <td>format\"\":{}</td>\n",
       "      <td>metadata\"\":{}}</td>\n",
       "      <td>{\"\"id\"\":135110656</td>\n",
       "    </tr>\n",
       "  </tbody>\n",
       "</table>\n",
       "<p>5 rows × 52 columns</p>\n",
       "</div>"
      ],
      "text/plain": [
       "  summary        Summons Number Plate ID Registration State  \\\n",
       "0   count               9100278  9100276            9100278   \n",
       "1    mean   6.486507134673543E9      NaN               99.0   \n",
       "2  stddev  2.1664474212002106E9      NaN                0.0   \n",
       "3     min            1001793950        !                 99   \n",
       "4     max            8006150291        ]                 YT   \n",
       "\n",
       "             Plate Type  Issue Date     Violation Code   Vehicle Body Type  \\\n",
       "0               9100278     9100278            9100278             8989410   \n",
       "1                 999.0        None  35.25493495912982   5.256613226452906   \n",
       "2  9.85113404791972E-14        None  20.50547511932227  23.127694456636892   \n",
       "3                   999  01/01/1981                  0                   -   \n",
       "4                   WUG  12/31/2031                 99                 ZSR   \n",
       "\n",
       "         Vehicle Make Issuing Agency  ...  Hydrant Violation  \\\n",
       "0             9037103        9100278  ...                  1   \n",
       "1   4555.626865671642           None  ...               None   \n",
       "2  12905.597273858535           None  ...               None   \n",
       "3               (UPS)              A  ...  {\"\"id\"\":135110655   \n",
       "4                   `              X  ...  {\"\"id\"\":135110655   \n",
       "\n",
       "                            Double Parking Violation               Latitude  \\\n",
       "0                                                  1                      1   \n",
       "1                                               None                   None   \n",
       "2                                               None                   None   \n",
       "3  name\"\":\"\"Drug Maximum Out of Pocket - individu...  dataTypeName\"\":\"\"text   \n",
       "4  name\"\":\"\"Drug Maximum Out of Pocket - individu...  dataTypeName\"\":\"\"text   \n",
       "\n",
       "                                           Longitude Community Board  \\\n",
       "0                                                  1               1   \n",
       "1                                               None            None   \n",
       "2                                               None            None   \n",
       "3  fieldName\"\":\"\"drug_maximum_out_of_pocket_indiv...   position\"\":64   \n",
       "4  fieldName\"\":\"\"drug_maximum_out_of_pocket_indiv...   position\"\":64   \n",
       "\n",
       "         Community Council  Census Tract          BIN             BBL  \\\n",
       "0                         1            1            1               1   \n",
       "1                      None         None         None            None   \n",
       "2                      None         None         None            None   \n",
       "3  tableColumnId\"\":16639867  width\"\":700  format\"\":{}  metadata\"\":{}}   \n",
       "4  tableColumnId\"\":16639867  width\"\":700  format\"\":{}  metadata\"\":{}}   \n",
       "\n",
       "                 NTA  \n",
       "0                  1  \n",
       "1               None  \n",
       "2               None  \n",
       "3  {\"\"id\"\":135110656  \n",
       "4  {\"\"id\"\":135110656  \n",
       "\n",
       "[5 rows x 52 columns]"
      ]
     },
     "execution_count": 5,
     "metadata": {},
     "output_type": "execute_result"
    }
   ],
   "source": [
    "df.describe().toPandas()"
   ]
  },
  {
   "cell_type": "code",
   "execution_count": 6,
   "id": "870ca8d7",
   "metadata": {},
   "outputs": [
    {
     "data": {
      "text/html": [
       "<div>\n",
       "<style scoped>\n",
       "    .dataframe tbody tr th:only-of-type {\n",
       "        vertical-align: middle;\n",
       "    }\n",
       "\n",
       "    .dataframe tbody tr th {\n",
       "        vertical-align: top;\n",
       "    }\n",
       "\n",
       "    .dataframe thead th {\n",
       "        text-align: right;\n",
       "    }\n",
       "</style>\n",
       "<table border=\"1\" class=\"dataframe\">\n",
       "  <thead>\n",
       "    <tr style=\"text-align: right;\">\n",
       "      <th></th>\n",
       "      <th>Summons Number</th>\n",
       "      <th>Plate ID</th>\n",
       "      <th>Registration State</th>\n",
       "      <th>Plate Type</th>\n",
       "      <th>Issue Date</th>\n",
       "      <th>Violation Code</th>\n",
       "      <th>Vehicle Body Type</th>\n",
       "      <th>Vehicle Make</th>\n",
       "      <th>Issuing Agency</th>\n",
       "      <th>Street Code1</th>\n",
       "      <th>...</th>\n",
       "      <th>Hydrant Violation</th>\n",
       "      <th>Double Parking Violation</th>\n",
       "      <th>Latitude</th>\n",
       "      <th>Longitude</th>\n",
       "      <th>Community Board</th>\n",
       "      <th>Community Council</th>\n",
       "      <th>Census Tract</th>\n",
       "      <th>BIN</th>\n",
       "      <th>BBL</th>\n",
       "      <th>NTA</th>\n",
       "    </tr>\n",
       "  </thead>\n",
       "  <tbody>\n",
       "    <tr>\n",
       "      <th>0</th>\n",
       "      <td>1283294138</td>\n",
       "      <td>GBB9093</td>\n",
       "      <td>NY</td>\n",
       "      <td>PAS</td>\n",
       "      <td>08/04/2013</td>\n",
       "      <td>46</td>\n",
       "      <td>SUBN</td>\n",
       "      <td>AUDI</td>\n",
       "      <td>P</td>\n",
       "      <td>37250</td>\n",
       "      <td>...</td>\n",
       "      <td>None</td>\n",
       "      <td>None</td>\n",
       "      <td>None</td>\n",
       "      <td>None</td>\n",
       "      <td>None</td>\n",
       "      <td>None</td>\n",
       "      <td>None</td>\n",
       "      <td>None</td>\n",
       "      <td>None</td>\n",
       "      <td>None</td>\n",
       "    </tr>\n",
       "    <tr>\n",
       "      <th>1</th>\n",
       "      <td>1283294151</td>\n",
       "      <td>62416MB</td>\n",
       "      <td>NY</td>\n",
       "      <td>COM</td>\n",
       "      <td>08/04/2013</td>\n",
       "      <td>46</td>\n",
       "      <td>VAN</td>\n",
       "      <td>FORD</td>\n",
       "      <td>P</td>\n",
       "      <td>37290</td>\n",
       "      <td>...</td>\n",
       "      <td>None</td>\n",
       "      <td>None</td>\n",
       "      <td>None</td>\n",
       "      <td>None</td>\n",
       "      <td>None</td>\n",
       "      <td>None</td>\n",
       "      <td>None</td>\n",
       "      <td>None</td>\n",
       "      <td>None</td>\n",
       "      <td>None</td>\n",
       "    </tr>\n",
       "  </tbody>\n",
       "</table>\n",
       "<p>2 rows × 51 columns</p>\n",
       "</div>"
      ],
      "text/plain": [
       "   Summons Number Plate ID Registration State Plate Type  Issue Date  \\\n",
       "0      1283294138  GBB9093                 NY        PAS  08/04/2013   \n",
       "1      1283294151  62416MB                 NY        COM  08/04/2013   \n",
       "\n",
       "   Violation Code Vehicle Body Type Vehicle Make Issuing Agency  Street Code1  \\\n",
       "0              46              SUBN         AUDI              P         37250   \n",
       "1              46               VAN         FORD              P         37290   \n",
       "\n",
       "   ...  Hydrant Violation  Double Parking Violation  Latitude  Longitude  \\\n",
       "0  ...               None                      None      None       None   \n",
       "1  ...               None                      None      None       None   \n",
       "\n",
       "   Community Board  Community Council   Census Tract   BIN   BBL   NTA  \n",
       "0             None                None          None  None  None  None  \n",
       "1             None                None          None  None  None  None  \n",
       "\n",
       "[2 rows x 51 columns]"
      ]
     },
     "execution_count": 6,
     "metadata": {},
     "output_type": "execute_result"
    }
   ],
   "source": [
    "df.limit(2).toPandas()"
   ]
  },
  {
   "cell_type": "markdown",
   "id": "8ec7d385",
   "metadata": {},
   "source": [
    "## Pre-Processing"
   ]
  },
  {
   "cell_type": "markdown",
   "id": "5bb78baf",
   "metadata": {},
   "source": [
    "<font size=\"4\">In the following columns, if we see the values of column 'Violation Time' it should actually be in the format HH:MM:AM/PM. (Ex:- 0752A) should be 07:52:AM and if we see the values of column 'Issue Date' it can be split into 3 columns 'Date', 'Month', 'Year' respectivley</font>"
   ]
  },
  {
   "cell_type": "code",
   "execution_count": 7,
   "id": "0c580db3",
   "metadata": {},
   "outputs": [
    {
     "name": "stdout",
     "output_type": "stream",
     "text": [
      "+--------------+\n",
      "|Violation Time|\n",
      "+--------------+\n",
      "|         0752A|\n",
      "|         1240P|\n",
      "|         1243P|\n",
      "|         0232P|\n",
      "|         1239P|\n",
      "+--------------+\n",
      "only showing top 5 rows\n",
      "\n"
     ]
    }
   ],
   "source": [
    "df.select('Violation Time').show(5)"
   ]
  },
  {
   "cell_type": "code",
   "execution_count": 8,
   "id": "0f92b5e2",
   "metadata": {},
   "outputs": [
    {
     "name": "stdout",
     "output_type": "stream",
     "text": [
      "+----------+\n",
      "|Issue Date|\n",
      "+----------+\n",
      "|08/04/2013|\n",
      "|08/04/2013|\n",
      "|08/05/2013|\n",
      "|08/05/2013|\n",
      "|08/08/2013|\n",
      "+----------+\n",
      "only showing top 5 rows\n",
      "\n"
     ]
    }
   ],
   "source": [
    "df.select('Issue Date').show(5)"
   ]
  },
  {
   "cell_type": "markdown",
   "id": "d2704ce5",
   "metadata": {},
   "source": [
    "<font size=\"4\">In the following cells we are splitting the column 'Violation Time' into 'Time_Hour' and 'Meridiem'. Column 'Time_Hour' contains the time the violation was commited and column 'Meridiem' contains if it was during AM or PM. Column 'Issue Date' is split into 'Day' **(typo it should be Date)**, 'Year' and 'Month'.</font>"
   ]
  },
  {
   "cell_type": "code",
   "execution_count": 4,
   "id": "d0543943",
   "metadata": {},
   "outputs": [],
   "source": [
    "import datetime \n",
    "def day_finder(x):\n",
    "    return datetime.datetime.strptime(x, '%m/%d/%Y').weekday()\n",
    "day_udf = func.udf(lambda x: day_finder(x), IntegerType())"
   ]
  },
  {
   "cell_type": "code",
   "execution_count": 5,
   "id": "eb7a4e4b",
   "metadata": {},
   "outputs": [],
   "source": [
    "df = df.withColumnRenamed('Violation Time', 'Violation_Time')\n",
    "df_new = df.withColumn('Month',func.split('Issue Date','/')[0]) \\\n",
    "            .withColumn('Year',func.split('Issue Date','/')[2]) \\\n",
    "            .withColumn('Day',day_udf(func.col('Issue Date')))  \\\n",
    "            .withColumn('Meridiem', \\\n",
    "                      func.when(func.isnan(df.Violation_Time) \\\n",
    "                               | func.col('Violation_Time').isNull()\\\n",
    "                               , func.lit(None))\\\n",
    "                      .otherwise(func.substring(df.Violation_Time,5,1))) \\\n",
    "            .withColumn('Time_Hour', \\\n",
    "                      func.when(func.isnan(df.Violation_Time) \\\n",
    "                               | func.col('Violation_Time').isNull()\\\n",
    "                               , func.lit(None))\\\n",
    "                      .otherwise(func.substring(df.Violation_Time,1,2)))"
   ]
  },
  {
   "cell_type": "code",
   "execution_count": 6,
   "id": "c581ba71",
   "metadata": {},
   "outputs": [],
   "source": [
    "df_new = df_new.withColumn('Year',df_new['Year'].cast(IntegerType())) \\\n",
    "    .withColumn(\"Month\",df_new[\"Month\"].cast(DoubleType())) \\\n",
    "    .withColumn(\"Day\",df_new[\"Day\"].cast(DoubleType())) \\\n",
    "    .withColumn(\"Time_Hour\",df_new[\"Time_Hour\"].cast(DoubleType()))"
   ]
  },
  {
   "cell_type": "code",
   "execution_count": 12,
   "id": "5127888c",
   "metadata": {},
   "outputs": [
    {
     "name": "stdout",
     "output_type": "stream",
     "text": [
      "+----+-------+--------------------+\n",
      "|Year|  count|          percentage|\n",
      "+----+-------+--------------------+\n",
      "|2003|     39|4.285583363497247E-4|\n",
      "|2007|     13|1.428527787832415...|\n",
      "|2018|    181|0.001988950227674...|\n",
      "|2044|      9|9.889807761916724E-5|\n",
      "|2015|   1522| 0.01672476379293028|\n",
      "|2032|      3|3.296602587305575E-5|\n",
      "|2023|     31|3.406489340215760...|\n",
      "|2006|     11|1.208754282012044...|\n",
      "|2031|     93|0.001021946802064...|\n",
      "|2013|4379109|   48.12060686497709|\n",
      "|2014|4716512|  51.828218874192636|\n",
      "|1973|     10|1.098867529101858...|\n",
      "|2041|     39|4.285583363497247E-4|\n",
      "|2019|    329|0.003615274170745...|\n",
      "|2004|     77|8.461279974084309E-4|\n",
      "|2030|     45|4.944903880958363E-4|\n",
      "|2053|      1|1.098867529101858...|\n",
      "|2012|    618|0.006791001329849484|\n",
      "|2009|      9|9.889807761916724E-5|\n",
      "|2016|    296|0.003252647886141...|\n",
      "+----+-------+--------------------+\n",
      "only showing top 20 rows\n",
      "\n"
     ]
    }
   ],
   "source": [
    "df_new.groupBy(\"Year\") \\\n",
    "  .count() \\\n",
    "  .withColumnRenamed('count', 'count') \\\n",
    "  .withColumn('percentage', (func.col('count') / df_new.count()) * 100 ) \\\n",
    "  .show()"
   ]
  },
  {
   "cell_type": "markdown",
   "id": "04c0675f",
   "metadata": {},
   "source": [
    "<font size=\"4\">The 'Year' the year value range varies in large (few misinputs). This dataset's primary year being 2013-2014 in the following cell we remove all the rows that does not have a year value of either 2013 or 2014</font>"
   ]
  },
  {
   "cell_type": "code",
   "execution_count": 7,
   "id": "b320404d",
   "metadata": {},
   "outputs": [],
   "source": [
    "df_new = df_new.where(func.col('Year')<2015)\n",
    "df_new = df_new.where(func.col('Year')>2012)"
   ]
  },
  {
   "cell_type": "code",
   "execution_count": 14,
   "id": "ccc46921",
   "metadata": {},
   "outputs": [
    {
     "name": "stdout",
     "output_type": "stream",
     "text": [
      "+--------+-------+--------------------+\n",
      "|Meridiem|  count|          percentage|\n",
      "+--------+-------+--------------------+\n",
      "|    null|   2054|0.022582295370486522|\n",
      "|       A|4436275|   48.77374508018749|\n",
      "|       P|4657277|  51.203507709918874|\n",
      "|        |     15|1.649145231535043E-4|\n",
      "+--------+-------+--------------------+\n",
      "\n"
     ]
    }
   ],
   "source": [
    "df_new.groupBy(\"Meridiem\") \\\n",
    "  .count() \\\n",
    "  .withColumnRenamed('count', 'count') \\\n",
    "  .withColumn('percentage', (func.col('count') / df_new.count()) * 100 ) \\\n",
    "  .show()"
   ]
  },
  {
   "cell_type": "markdown",
   "id": "d05a3b18",
   "metadata": {},
   "source": [
    "<font size=\"4\">The 'Meridiem' column has few null and empty values, the empty values are converted into 'None' and later on dropped</font>"
   ]
  },
  {
   "cell_type": "code",
   "execution_count": 8,
   "id": "1377b4ae",
   "metadata": {},
   "outputs": [],
   "source": [
    "df_new = df_new.withColumn(\"Meridiem\", \\\n",
    "       func.when(col(\"Meridiem\")==\"\" ,None) \\\n",
    "          .otherwise(col(\"Meridiem\"))) "
   ]
  },
  {
   "cell_type": "code",
   "execution_count": 16,
   "id": "298bc45d",
   "metadata": {},
   "outputs": [
    {
     "name": "stdout",
     "output_type": "stream",
     "text": [
      "+---------+------+--------------------+\n",
      "|Time_Hour| count|          percentage|\n",
      "+---------+------+--------------------+\n",
      "|      8.0|955730|  10.507583814233245|\n",
      "|      0.0| 52530|   0.577530660083572|\n",
      "|      7.0|518121|   5.696378510054453|\n",
      "|     29.0|    10|1.099430154356695...|\n",
      "|     44.0|     1|1.099430154356695...|\n",
      "|     null|  2057|0.022615278275117223|\n",
      "|      1.0|968418|  10.647079512218022|\n",
      "|      0.6|     1|1.099430154356695...|\n",
      "|      4.0|580011|   6.376815832585812|\n",
      "|     85.0|     1|1.099430154356695...|\n",
      "|     77.0|     1|1.099430154356695...|\n",
      "|     11.0|964384|  10.602728499791274|\n",
      "|      3.0|627837|   6.902629298208446|\n",
      "|     53.0|     3|3.298290463070086E-5|\n",
      "|     59.0|     6|6.596580926140172E-5|\n",
      "|     28.0|    15|1.649145231535043E-4|\n",
      "|      2.0|857338|   9.425832496758606|\n",
      "|     10.0|823190|    9.05039908764888|\n",
      "|     30.0|     9| 9.89487138921026E-5|\n",
      "|     84.0|     2|2.198860308713390...|\n",
      "+---------+------+--------------------+\n",
      "only showing top 20 rows\n",
      "\n"
     ]
    }
   ],
   "source": [
    "df_new.groupBy(\"Time_Hour\") \\\n",
    "  .count() \\\n",
    "  .withColumnRenamed('count', 'count') \\\n",
    "  .withColumn('percentage', (func.col('count') / df_new.count()) * 100 ) \\\n",
    "  .show()"
   ]
  },
  {
   "cell_type": "markdown",
   "id": "5a985d5d",
   "metadata": {},
   "source": [
    "<font size=\"4\">The 'Time_Hour' column has garbage values. The value should be between 1-12(12 hour format), in the following cell we remove all the rows that does not have a time value between 1.0 and 12.0</font>"
   ]
  },
  {
   "cell_type": "code",
   "execution_count": 9,
   "id": "c5093125",
   "metadata": {},
   "outputs": [],
   "source": [
    "df_new = df_new.withColumn(\"Time_Hour\", func.when((func.col(\"Time_Hour\") <= 0.0) |  \\\n",
    "                                                  (func.col(\"Time_Hour\") > 12.0),1.0) \\\n",
    "                           .otherwise(df_new.Time_Hour))"
   ]
  },
  {
   "cell_type": "code",
   "execution_count": 18,
   "id": "b23a083f",
   "metadata": {},
   "outputs": [
    {
     "name": "stdout",
     "output_type": "stream",
     "text": [
      "+------------------+-------+--------------------+\n",
      "|Registration State|  count|          percentage|\n",
      "+------------------+-------+--------------------+\n",
      "|                SC|  19515|  0.2145537946227091|\n",
      "|                AZ|  24221| 0.26629297768673516|\n",
      "|                NS|    373|0.004100874475750474|\n",
      "|                LA|   2497|0.027452770954286686|\n",
      "|                MN|  12897|   0.141793507007383|\n",
      "|                NJ| 878359|   9.656943709505926|\n",
      "|                MX|    108|0.001187384566705231|\n",
      "|                DC|   3727| 0.04097576185287404|\n",
      "|                OR|   3482| 0.03828215797470013|\n",
      "|                99|  37912| 0.41681596011971034|\n",
      "|                VA|  60919|  0.6697618557325553|\n",
      "|                RI|  13286| 0.14607029030783053|\n",
      "|                KY|   3222|0.035423639573372724|\n",
      "|                WY|    300|0.003298290463070...|\n",
      "|                BC|    329|0.003617125207833528|\n",
      "|                NH|   9928| 0.10915142572453272|\n",
      "|                MI|  16357| 0.17983379034812466|\n",
      "|                GV|   1312|0.014424523625159842|\n",
      "|                NV|   2131|0.023428856589341178|\n",
      "|                QB|   5335|  0.0586545987349297|\n",
      "|                WI|   5310|0.058379741196340526|\n",
      "|                ID|   5860| 0.06442660704530236|\n",
      "|                CA|  20088| 0.22085352940717298|\n",
      "|                CT| 136909|   1.505218830028208|\n",
      "|                NE|   1626|0.017876734309839867|\n",
      "|                MT|    622|0.006838455560098646|\n",
      "|                NC|  47089|  0.5177106653850243|\n",
      "|                VT|   7210| 0.07926891412911774|\n",
      "|                MD|  50383|  0.5539258946695338|\n",
      "|                DE|  14636| 0.16091259739164593|\n",
      "|                MO|   2874| 0.03159762263621142|\n",
      "|                IL|  31741| 0.34897012529435867|\n",
      "|                ME|  19421|  0.2135203302776138|\n",
      "|                MB|     22| 2.41874633958473E-4|\n",
      "|                WA|   5959| 0.06551504289811548|\n",
      "|                ND|    430| 0.00472754966373379|\n",
      "|                MS|   3426| 0.03766647708826038|\n",
      "|                AL|   5824| 0.06403081218973393|\n",
      "|                IN|  49104|  0.5398641829953117|\n",
      "|                OH|  21985|  0.2417097194353195|\n",
      "|                TN|  18383| 0.20210824527539129|\n",
      "|                NM|   2934|0.032257280728825444|\n",
      "|                IA|   7163| 0.07875218195657009|\n",
      "|                PA| 225658|  2.4809520977182316|\n",
      "|                SD|    690|0.007586068065061198|\n",
      "|                NY|7026270|   77.24893110651819|\n",
      "|                ON|   5182| 0.05697247059876395|\n",
      "|                SK|     25|2.748575385891738...|\n",
      "|                AB|    243| 0.00267161527508677|\n",
      "|                PE|     99|0.001088435852813...|\n",
      "|                TX|  24076|   0.264698803962918|\n",
      "|                WV|   1688|0.018558381005541018|\n",
      "|                GA|  30818|  0.3388223849696464|\n",
      "|                MA|  78598|  0.8641301127212755|\n",
      "|                KS|   1225|0.013468019390869519|\n",
      "|                FL| 111832|  1.2295147302201797|\n",
      "|                CO|   3661| 0.04025013795099862|\n",
      "|                AK|    961|0.010565523783367843|\n",
      "|                AR|   2715|0.029849528690784277|\n",
      "|                NB|    151| 0.00166013953307861|\n",
      "|                OK|  19682|  0.2163898429804848|\n",
      "|                PR|    211|0.002319797625692...|\n",
      "|                UT|    942| 0.01035663205404007|\n",
      "|                HI|    395|0.004342749109708947|\n",
      "|                DP|   5260| 0.05783002611916217|\n",
      "|                NT|      6|6.596580926140172E-5|\n",
      "|                FO|      9| 9.89487138921026E-5|\n",
      "|                YT|     14|1.539202216099373...|\n",
      "|                NF|      1|1.099430154356695...|\n",
      "+------------------+-------+--------------------+\n",
      "\n"
     ]
    }
   ],
   "source": [
    "df_new.groupBy(\"Registration State\") \\\n",
    "  .count() \\\n",
    "  .withColumnRenamed('count', 'count') \\\n",
    "  .withColumn('percentage', (func.col('count') / df_new.count()) * 100 ) \\\n",
    "  .show(100)"
   ]
  },
  {
   "cell_type": "markdown",
   "id": "8065692b",
   "metadata": {},
   "source": [
    "<font size=\"4\">Removing Garbage value '99' from 'Registration State' column</font>"
   ]
  },
  {
   "cell_type": "code",
   "execution_count": 10,
   "id": "f68baee8",
   "metadata": {},
   "outputs": [],
   "source": [
    "df_new = df_new.withColumnRenamed('Registration State', 'Registration_State')\n",
    "df_new = df_new.filter(df_new.Registration_State != '99')"
   ]
  },
  {
   "cell_type": "code",
   "execution_count": 20,
   "id": "7830f56c",
   "metadata": {},
   "outputs": [
    {
     "name": "stdout",
     "output_type": "stream",
     "text": [
      "+----------+-------+--------------------+\n",
      "|Plate Type|  count|          percentage|\n",
      "+----------+-------+--------------------+\n",
      "|       CCK|     24|2.649676645606521E-4|\n",
      "|       OMO|     40|4.416127742677535...|\n",
      "|       LMB|     30|3.312095807008152E-4|\n",
      "|       CLG|     12|1.324838322803260...|\n",
      "|       SOS|     67|7.397013968984872E-4|\n",
      "|       SPC|    209|0.002307426745549...|\n",
      "|       SUP|     31|3.422499000575090...|\n",
      "|       NYA|    122|0.001346918961516...|\n",
      "|       RGL|   4281|0.047263607166006326|\n",
      "|       CHC|    262|0.002892563671453786|\n",
      "|       STA|    187|0.002064539719701748|\n",
      "|       RGC|    267|0.002947765268237255|\n",
      "|       TRC|  22351| 0.24676217794146402|\n",
      "|       AMB|     86|9.494674646756703E-4|\n",
      "|       COM|1878953|  20.744241176217958|\n",
      "|       HAM|    137|0.001512523751867056|\n",
      "|       CMH|   2347| 0.02591162953016044|\n",
      "|       NYS|     26|2.870483032740398...|\n",
      "|       MCD|    102|0.001126112574382...|\n",
      "|       IRP|  59785|  0.6600454927399412|\n",
      "|       ORG|  12721| 0.14044390253650235|\n",
      "|       999|  48953|  0.5404567534682335|\n",
      "|       ATD|     41|4.526530936244474E-4|\n",
      "|       ORC|    286|0.003157531336014438|\n",
      "|       LTR|    134|0.001479402793796...|\n",
      "|       USC|     44| 4.85774051694529E-4|\n",
      "|       ITP|   2549|0.028141774040212595|\n",
      "|       SRF|  95585|  1.0552889257095805|\n",
      "|       OMF|    473|0.005222071055716186|\n",
      "|       LUA|     10|1.104031935669383...|\n",
      "|       AGR|    313|0.003455619958645...|\n",
      "|       OML|  10525| 0.11619936122920266|\n",
      "|       ORM|     89|9.825884227457518E-4|\n",
      "|       MCL|   1637|0.018073002786907814|\n",
      "|       PAS|6495695|   71.71454724367939|\n",
      "|       OMR|  16926|  0.1868684454313999|\n",
      "|       OMT| 235178|  2.5964402256685437|\n",
      "|       SCL|   3596|0.039700988406671044|\n",
      "|       OMV|     85|9.384271453189764E-4|\n",
      "|       PHS|    774|0.008545207182081032|\n",
      "|       STG|     60|6.624191614016304E-4|\n",
      "|       GSM|      8|8.832255485355072E-5|\n",
      "|       PSD|   3458|0.038177424335447296|\n",
      "|       CSP|   1324|0.014617382828262644|\n",
      "|       AYG|    117|0.001291717364733...|\n",
      "|       HIS|    808|0.008920578040208623|\n",
      "|       GAC|     15|1.656047903504076E-4|\n",
      "|       AGC|     39|4.305724549110597E-4|\n",
      "|       GSC|      3|3.312095807008151...|\n",
      "|       MED|  12372|  0.1365908310810162|\n",
      "|       LMA|    102|0.001126112574382...|\n",
      "|       ARG|     27|2.980886226307336...|\n",
      "|       THC|    105|0.001159233532452...|\n",
      "|       DLR|   5106| 0.05637187063527874|\n",
      "|       SRN|   4074|  0.0449782610591707|\n",
      "|       VPL|     41|4.526530936244474E-4|\n",
      "|       SEM|    555|0.006127377242965081|\n",
      "|       SPO|   7041| 0.07773488859048132|\n",
      "|       CMB|  13116|  0.1448048286823964|\n",
      "|       TOW|   4221| 0.04660118800460469|\n",
      "|       VAS|   3079|0.033993143299260335|\n",
      "|       FPW|     34|3.753708581275905...|\n",
      "|       NLM|     53|5.851369259047734E-4|\n",
      "|       TRL|   2271| 0.02507256525905171|\n",
      "|       OMS|  74988|  0.8278914679197577|\n",
      "|       TRA|   3503| 0.03867423870649852|\n",
      "|       LMC|     10|1.104031935669383...|\n",
      "|       JSC|      8|8.832255485355072E-5|\n",
      "|       MOT|  23379|  0.2581116262401453|\n",
      "|       CME|    245|0.002704878242389991|\n",
      "|       CBS|    718|0.007926949298106176|\n",
      "|       NYC|     25|2.760079839173459...|\n",
      "|       FAR|     18|1.987257484204891...|\n",
      "|       BOB|     60|6.624191614016304E-4|\n",
      "|       HAC|      7|7.728223549685687E-5|\n",
      "|       HSM|     12|1.324838322803260...|\n",
      "|       JCA|      9|9.936287421024456E-5|\n",
      "|       HIR|      7|7.728223549685687E-5|\n",
      "|       JCL|      7|7.728223549685687E-5|\n",
      "|       BOT|      8|8.832255485355072E-5|\n",
      "|       HOU|      2|2.208063871338768E-5|\n",
      "|       HIF|      2|2.208063871338768E-5|\n",
      "|       PPH|      6|6.624191614016303E-5|\n",
      "|       JWV|      1|1.104031935669384E-5|\n",
      "|       WUG|      1|1.104031935669384E-5|\n",
      "|       LOC|      1|1.104031935669384E-5|\n",
      "|       APP|   1729|0.019088712167723648|\n",
      "|       USS|      1|1.104031935669384E-5|\n",
      "+----------+-------+--------------------+\n",
      "\n"
     ]
    }
   ],
   "source": [
    "df_new.groupBy(\"Plate Type\") \\\n",
    "  .count() \\\n",
    "  .withColumnRenamed('count', 'count') \\\n",
    "  .withColumn('percentage', (func.col('count') / df_new.count()) * 100 ) \\\n",
    "  .show(100)"
   ]
  },
  {
   "cell_type": "markdown",
   "id": "7a0ee553",
   "metadata": {},
   "source": [
    "<font size=\"4\">Removing Garbage value '999' from 'Plate Type' column</font>"
   ]
  },
  {
   "cell_type": "code",
   "execution_count": 11,
   "id": "78916671",
   "metadata": {},
   "outputs": [],
   "source": [
    "df_new = df_new.withColumnRenamed('Plate Type', 'Plate_Type')\n",
    "df_new = df_new.filter(df_new.Plate_Type != '999')"
   ]
  },
  {
   "cell_type": "markdown",
   "id": "fb901c99",
   "metadata": {},
   "source": [
    "<font size=\"4\">Trimming extra spaces from column name(Days Parking In Effect, Community Council)</font>"
   ]
  },
  {
   "cell_type": "code",
   "execution_count": 12,
   "id": "e37b07cd",
   "metadata": {},
   "outputs": [],
   "source": [
    "df_new = df_new.withColumnRenamed('Days Parking In Effect    ','Days Parking In Effect')\n",
    "df_new = df_new.withColumnRenamed('Community Council ','Community Council')"
   ]
  },
  {
   "cell_type": "code",
   "execution_count": 23,
   "id": "3a4186d9",
   "metadata": {},
   "outputs": [
    {
     "name": "stdout",
     "output_type": "stream",
     "text": [
      "+----------------+-------+--------------------+\n",
      "|Violation County|  count|          percentage|\n",
      "+----------------+-------+--------------------+\n",
      "|               K|1958357|  21.738373200472964|\n",
      "|               Q|1807826|   20.06743217376517|\n",
      "|              BX| 931991|  10.345390639950732|\n",
      "|            null| 694306|   7.707013043754321|\n",
      "|           BRONX|      3|3.330093522346481...|\n",
      "|               R|  98074|  1.0886519737020295|\n",
      "|              NY|3518187|   39.05297246367867|\n",
      "|            RICH|      4|4.440124696461975E-5|\n",
      "|           KINGS|      1|1.110031174115493...|\n",
      "|             NYC|      2|2.220062348230987...|\n",
      "|             103|      1|1.110031174115493...|\n",
      "|           QUEEN|      2|2.220062348230987...|\n",
      "|              RC|      2|2.220062348230987...|\n",
      "+----------------+-------+--------------------+\n",
      "\n"
     ]
    }
   ],
   "source": [
    "df_new.groupBy(\"Violation County\") \\\n",
    "  .count() \\\n",
    "  .withColumnRenamed('count', 'count') \\\n",
    "  .withColumn('percentage', (func.col('count') / df_new.count()) * 100 ) \\\n",
    "  .show()"
   ]
  },
  {
   "cell_type": "markdown",
   "id": "b998ec74",
   "metadata": {},
   "source": [
    "<font size=\"4\">The target column 'Violation County' has multiple abbrevation for a single location (Ex:- NYC and NY both indicate New York), in the following cell it is made to one). Also other parking violation datasets' (2015-2016) 'Violation County' values has been viewed for confirmation </font>"
   ]
  },
  {
   "cell_type": "code",
   "execution_count": 13,
   "id": "b1d7d946",
   "metadata": {},
   "outputs": [],
   "source": [
    "df_new = df_new.withColumn('Violation County', regexp_replace('Violation County', 'KINGS', 'K')) \\\n",
    "                .withColumn('Violation County', regexp_replace('Violation County','QUEEN', 'Q')) \\\n",
    "                .withColumn('Violation County', regexp_replace('Violation County', 'BRONX', 'BX')) \\\n",
    "                .withColumn('Violation County', regexp_replace('Violation County', 'RC', 'R'))   \\\n",
    "                .withColumn('Violation County', regexp_replace('Violation County', 'RICH','R'))  \\\n",
    "                .withColumn('Violation County', regexp_replace('Violation County', 'NYC', 'NY'))"
   ]
  },
  {
   "cell_type": "markdown",
   "id": "3fd028f1",
   "metadata": {},
   "source": [
    "<font size=\"4\">Since 'Violation County' is our target column in the following cells we are dropping any null rows preset and rows that has garbage value</font>"
   ]
  },
  {
   "cell_type": "code",
   "execution_count": 14,
   "id": "22aaa686",
   "metadata": {},
   "outputs": [],
   "source": [
    "df_new = df_new.dropna(how='any',subset=['Violation County'])"
   ]
  },
  {
   "cell_type": "code",
   "execution_count": 15,
   "id": "2a7f5534",
   "metadata": {},
   "outputs": [],
   "source": [
    "df_new = df_new.withColumnRenamed('Violation County', 'Violation_County')\n",
    "df_new = df_new.filter(df_new.Violation_County != '103')"
   ]
  },
  {
   "cell_type": "markdown",
   "id": "7ef5698f",
   "metadata": {},
   "source": [
    "<font size=\"4\">Replacing emtpy values in the entire dataframe with None</font>"
   ]
  },
  {
   "cell_type": "code",
   "execution_count": 16,
   "id": "fab216a1",
   "metadata": {},
   "outputs": [],
   "source": [
    "df_new=df_new.select([func.when(func.col(c)==\"\",None).otherwise(func.col(c)).alias(c) for c in df_new.columns])"
   ]
  },
  {
   "cell_type": "markdown",
   "id": "3ff1d9ae",
   "metadata": {},
   "source": [
    "<font size=\"4\">Finding the correlation between column 'Violation Location' and 'Violation Precint'</font>"
   ]
  },
  {
   "cell_type": "code",
   "execution_count": 31,
   "id": "26fdc2d1",
   "metadata": {},
   "outputs": [
    {
     "data": {
      "text/plain": [
       "1.0"
      ]
     },
     "execution_count": 31,
     "metadata": {},
     "output_type": "execute_result"
    }
   ],
   "source": [
    "df_new.stat.corr('Violation Location','Violation Precinct')"
   ]
  },
  {
   "cell_type": "markdown",
   "id": "19bb426f",
   "metadata": {},
   "source": [
    "<font size=\"4\">In the following cells uncessary columns are guessed based on column names, for null values percentage of columns, kaggle has been refered</font>"
   ]
  },
  {
   "cell_type": "code",
   "execution_count": 17,
   "id": "4e1cd8a1",
   "metadata": {},
   "outputs": [],
   "source": [
    "# Uneccessary columns\n",
    "columns_to_drop = ['Summons Number','Plate ID','Issuer Code','Vehicle Expiration Date','House Number','Street Name','Date First Observed','Law Section','Sub Division','Vehicle Color','Vehicle Year','Feet From Curb','Violation Post Code','Violation Description','Violation Precinct']\n",
    "# Columns that has more than 30% of missing value\n",
    "columns_missing2 = ['Days Parking In Effect','From Hours In Effect','To Hours In Effect']\n",
    "# columns that has more than 75% of missing values\n",
    "columns_missing = ['Time First Observed','Intersecting Street','Violation Legal Code','Unregistered Vehicle?','Meter Number',\"No Standing or Stopping Violation\",\"Hydrant Violation\",\"Double Parking Violation\",\"Latitude\",\"Longitude\",\"Community Board\",\"Community Council\",\"Census Tract\",\"BIN\",\"BBL\",\"NTA\"]\n",
    "# Columns that are no longer needed\n",
    "columns_to_drop2 = ['Year','Violation_Time','Issue Date','Issuer Squad']\n",
    "final_columns = columns_missing+columns_missing2+columns_to_drop+columns_to_drop2"
   ]
  },
  {
   "cell_type": "code",
   "execution_count": 18,
   "id": "9c71ac4a",
   "metadata": {},
   "outputs": [
    {
     "data": {
      "text/plain": [
       "38"
      ]
     },
     "execution_count": 18,
     "metadata": {},
     "output_type": "execute_result"
    }
   ],
   "source": [
    "len(final_columns)"
   ]
  },
  {
   "cell_type": "code",
   "execution_count": 19,
   "id": "10886faf",
   "metadata": {},
   "outputs": [],
   "source": [
    "df_new = df_new.drop(*final_columns)"
   ]
  },
  {
   "cell_type": "markdown",
   "id": "6f75b488",
   "metadata": {},
   "source": [
    "<font size='4'>Replacing spaces in the column name with underscore</font>"
   ]
  },
  {
   "cell_type": "code",
   "execution_count": 20,
   "id": "b8350e88",
   "metadata": {},
   "outputs": [],
   "source": [
    "df_new = df_new.select([func.col(col).alias(col.replace(' ', '_')) for col in df_new.columns])"
   ]
  },
  {
   "cell_type": "code",
   "execution_count": 34,
   "id": "45f5c981",
   "metadata": {},
   "outputs": [],
   "source": [
    "df_new = df_new.na.drop('any')"
   ]
  },
  {
   "cell_type": "code",
   "execution_count": 36,
   "id": "f37f9f43",
   "metadata": {},
   "outputs": [
    {
     "data": {
      "text/plain": [
       "8142488"
      ]
     },
     "execution_count": 36,
     "metadata": {},
     "output_type": "execute_result"
    }
   ],
   "source": [
    "df_new.count()"
   ]
  },
  {
   "cell_type": "code",
   "execution_count": null,
   "id": "788503ea",
   "metadata": {},
   "outputs": [],
   "source": [
    "df_empty = df_new.select([func.count(func.when(col(c).contains('None') | \\\n",
    "                            col(c).contains('NULL') | \\\n",
    "                            (col(c) == '' ) | \\\n",
    "                            col(c).isNull() | \\\n",
    "                            func.isnan(c), c \n",
    "                           )).alias(c)\n",
    "                    for c in df_new.columns]).show()"
   ]
  },
  {
   "cell_type": "code",
   "execution_count": 46,
   "id": "5cfc5be7",
   "metadata": {},
   "outputs": [
    {
     "data": {
      "text/plain": [
       "18"
      ]
     },
     "execution_count": 46,
     "metadata": {},
     "output_type": "execute_result"
    }
   ],
   "source": [
    "len(df_new.columns)"
   ]
  },
  {
   "cell_type": "markdown",
   "id": "cf6c1009",
   "metadata": {},
   "source": [
    "## ANALYSIS"
   ]
  },
  {
   "cell_type": "code",
   "execution_count": 48,
   "id": "e899514a",
   "metadata": {},
   "outputs": [
    {
     "name": "stdout",
     "output_type": "stream",
     "text": [
      "+-----+------+------------------+\n",
      "|Month| count|        percentage|\n",
      "+-----+------+------------------+\n",
      "|  8.0|734673| 9.022709029476003|\n",
      "|  7.0|126908|1.5585899543235435|\n",
      "|  1.0|644437|  7.91449738703944|\n",
      "|  4.0|774254| 9.508813522353364|\n",
      "| 11.0|769771| 9.453756640476474|\n",
      "|  3.0|814310|10.000751613020492|\n",
      "|  2.0|582153| 7.149571482328251|\n",
      "| 10.0|858861|10.547893960666569|\n",
      "|  6.0|633118| 7.775485822023932|\n",
      "|  5.0|818118|10.047518645406663|\n",
      "|  9.0|728177| 8.942929974229006|\n",
      "| 12.0|657708| 8.077481968656263|\n",
      "+-----+------+------------------+\n",
      "\n"
     ]
    }
   ],
   "source": [
    "df_new.groupBy(\"Month\") \\\n",
    "  .count() \\\n",
    "  .withColumnRenamed('count', 'count') \\\n",
    "  .withColumn('percentage', (func.col('count') / df_new.count()) * 100 ) \\\n",
    "  .show()"
   ]
  },
  {
   "cell_type": "code",
   "execution_count": 49,
   "id": "5a1abc72",
   "metadata": {},
   "outputs": [
    {
     "name": "stdout",
     "output_type": "stream",
     "text": [
      "+----------------+-------+------------------+\n",
      "|Violation_County|  count|        percentage|\n",
      "+----------------+-------+------------------+\n",
      "|               K|1912409|23.486789295851587|\n",
      "|               Q|1772184|    21.76464982202|\n",
      "|              BX| 906164|11.128834331717774|\n",
      "|               R|  89976|1.1050185152253218|\n",
      "|              NY|3461755|42.514708035185315|\n",
      "+----------------+-------+------------------+\n",
      "\n"
     ]
    }
   ],
   "source": [
    "df_new.groupBy(\"Violation_County\") \\\n",
    "  .count() \\\n",
    "  .withColumnRenamed('count', 'count') \\\n",
    "  .withColumn('percentage', (func.col('count') / df_new.count()) * 100 ) \\\n",
    "  .show()"
   ]
  },
  {
   "cell_type": "code",
   "execution_count": 22,
   "id": "7e68949c",
   "metadata": {},
   "outputs": [
    {
     "name": "stdout",
     "output_type": "stream",
     "text": [
      "+----------------+-------+------------------+\n",
      "|Violation_County|  count|        percentage|\n",
      "+----------------+-------+------------------+\n",
      "|               K|1958358|23.553671445937066|\n",
      "|               Q|1807828|21.743208720144892|\n",
      "|              BX| 931994|11.209329686188466|\n",
      "|               R|  98080|1.1796331903653507|\n",
      "|              NY|3518189|42.314156957364226|\n",
      "+----------------+-------+------------------+\n",
      "\n"
     ]
    }
   ],
   "source": [
    "df_new.groupBy(\"Violation_County\") \\\n",
    "  .count() \\\n",
    "  .withColumnRenamed('count', 'count') \\\n",
    "  .withColumn('percentage', (func.col('count') / df_new.count()) * 100 ) \\\n",
    "  .show()"
   ]
  }
 ],
 "metadata": {
  "kernelspec": {
   "display_name": "Python 3",
   "language": "python",
   "name": "python3"
  },
  "language_info": {
   "codemirror_mode": {
    "name": "ipython",
    "version": 3
   },
   "file_extension": ".py",
   "mimetype": "text/x-python",
   "name": "python",
   "nbconvert_exporter": "python",
   "pygments_lexer": "ipython3",
   "version": "3.8.8"
  }
 },
 "nbformat": 4,
 "nbformat_minor": 5
}
