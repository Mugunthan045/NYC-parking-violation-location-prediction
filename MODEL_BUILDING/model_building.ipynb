{
 "cells": [
  {
   "cell_type": "code",
   "execution_count": null,
   "metadata": {
    "id": "b5IQ7HNFclYu"
   },
   "outputs": [],
   "source": [
    "!apt-get install openjdk-8-jdk-headless -qq > /dev/null\n",
    "!wget -q https://dlcdn.apache.org/spark/spark-3.3.0/spark-3.3.0-bin-hadoop3.tgz\n",
    "!tar xf spark-3.3.0-bin-hadoop3.tgz\n",
    "!pip install -q findspark"
   ]
  },
  {
   "cell_type": "code",
   "execution_count": null,
   "metadata": {
    "id": "-yYFRsLjcmKR"
   },
   "outputs": [],
   "source": [
    "import os\n",
    "os.environ[\"JAVA_HOME\"] = \"/usr/lib/jvm/java-8-openjdk-amd64\"\n",
    "os.environ[\"SPARK_HOME\"] = \"/content/spark-3.3.0-bin-hadoop3\""
   ]
  },
  {
   "cell_type": "code",
   "execution_count": null,
   "metadata": {
    "id": "gfOpsnIrcngp"
   },
   "outputs": [],
   "source": [
    "import findspark\n",
    "findspark.init()\n",
    "from pyspark.sql import SparkSession\n",
    "spark = SparkSession.builder.master(\"local[*]\").getOrCreate()"
   ]
  },
  {
   "cell_type": "code",
   "execution_count": null,
   "metadata": {
    "colab": {
     "base_uri": "https://localhost:8080/"
    },
    "executionInfo": {
     "elapsed": 217747,
     "status": "ok",
     "timestamp": 1659163892833,
     "user": {
      "displayName": "S Mugunthan 045",
      "userId": "11725891494930842986"
     },
     "user_tz": -330
    },
    "id": "AYORNFXTcotw",
    "outputId": "bf27a2d9-2d38-48c5-8624-7b5dd53d051c"
   },
   "outputs": [],
   "source": [
    "from google.colab import drive\n",
    "drive.mount('/content/drive')"
   ]
  },
  {
   "cell_type": "code",
   "execution_count": null,
   "metadata": {
    "id": "YfH_gL21d29-"
   },
   "outputs": [],
   "source": [
    "from pyspark.ml.feature import StringIndexer\n",
    "from pyspark.sql import SparkSession\n",
    "from pyspark.ml import Pipeline\n",
    "from pyspark.ml.feature import VectorAssembler\n",
    "from pyspark.ml.classification import RandomForestClassifier\n",
    "from pyspark.ml.evaluation import MulticlassClassificationEvaluator\n",
    "from pyspark.ml.classification import DecisionTreeClassifier"
   ]
  },
  {
   "cell_type": "code",
   "execution_count": null,
   "metadata": {
    "colab": {
     "background_save": true
    },
    "id": "_1BzdXlGcqNb"
   },
   "outputs": [],
   "source": [
    "df = spark.read.csv(\"/content/drive/MyDrive/processed_parking.csv\",header=True,inferSchema=True)"
   ]
  },
  {
   "cell_type": "code",
   "execution_count": null,
   "metadata": {
    "colab": {
     "background_save": true
    },
    "id": "pzyfQwzYdX03"
   },
   "outputs": [],
   "source": [
    "index = [StringIndexer(inputCol=column, outputCol=column+\"_index\",handleInvalid='keep').fit(df) for column in list(set(df.columns)-set(['Month','Day','Time_Hour','Violation_County']))]\n",
    "target_index = StringIndexer(inputCol=\"Violation_County\", outputCol=\"label\",handleInvalid='keep').fit(df)\n",
    "assembler = VectorAssembler(inputCols=['Month','Day','Time_Hour','Violation_In_Front_Of_Or_Opposite_index','Street_Code1_index','Issuer_Command_index','Violation_Location_index','Vehicle_Body_Type_index','Meridiem_index','Registration_State_index','Plate_Type_index','Issuer_Precinct_index','Street_Code2_index','Issuing_Agency_index','Violation_Code_index','Vehicle_Make_index','Street_Code3_index'],outputCol='features')"
   ]
  },
  {
   "cell_type": "code",
   "execution_count": null,
   "metadata": {
    "id": "dRvbR0h6daGX"
   },
   "outputs": [],
   "source": [
    "pipeline = Pipeline(stages=index+[target_index,assembler])\n",
    "df = pipeline.fit(df).transform(df)"
   ]
  },
  {
   "cell_type": "code",
   "execution_count": null,
   "metadata": {
    "id": "PB_PTZj9dba3"
   },
   "outputs": [],
   "source": [
    "train, test = df.randomSplit([0.8,0.2])"
   ]
  },
  {
   "cell_type": "code",
   "execution_count": null,
   "metadata": {
    "id": "61a5oceRdcuO"
   },
   "outputs": [],
   "source": [
    "dt = DecisionTreeClassifier(labelCol=\"label\", featuresCol=\"features\",maxBins=6700)\n",
    "model_dt = dt.fit(train)"
   ]
  },
  {
   "cell_type": "code",
   "execution_count": null,
   "metadata": {
    "id": "skmor7Tddd0G"
   },
   "outputs": [],
   "source": [
    "model_dt.write().overwrite().save('/content/drive/MyDrive/DFmodel')\n",
    "pred_dt = model_dt.transform(test)"
   ]
  },
  {
   "cell_type": "code",
   "execution_count": null,
   "metadata": {
    "id": "SvkiUXFoA2KR"
   },
   "outputs": [],
   "source": [
    "evaluator = MulticlassClassificationEvaluator(labelCol='label',predictionCol='prediction')\n",
    "accuracy_dt = evaluator.evaluate(pred_dt)"
   ]
  },
  {
   "cell_type": "code",
   "execution_count": null,
   "metadata": {
    "colab": {
     "base_uri": "https://localhost:8080/"
    },
    "executionInfo": {
     "elapsed": 9,
     "status": "ok",
     "timestamp": 1659164646704,
     "user": {
      "displayName": "S Mugunthan 045",
      "userId": "11725891494930842986"
     },
     "user_tz": -330
    },
    "id": "4EjpLGanLzcH",
    "outputId": "978528e2-33d6-4d88-d349-b1de643df12d"
   },
   "outputs": [],
   "source": [
    "print(\"Accuracy for Decision Tree = %s\" % (accuracy_dt))\n",
    "print(\"Test Error for Decision Tree = %s\" % (1.0 - accuracy_dt))"
   ]
  },
  {
   "cell_type": "code",
   "execution_count": null,
   "metadata": {
    "id": "JALLTGJkdfsf"
   },
   "outputs": [],
   "source": [
    "rf = RandomForestClassifier(maxBins=6700,labelCol=\"label\", featuresCol=\"features\")\n",
    "model_rf = rf.fit(train)"
   ]
  },
  {
   "cell_type": "code",
   "execution_count": null,
   "metadata": {},
   "outputs": [],
   "source": [
    "#comment out 1st pipelinecell and run all if you want to use this cell\n",
    "# or create a new train test split from the initial df\n",
    "pipeline_2 = pipeline = Pipeline(stages=index+[target_index,assembler,rt])\n",
    "pipeline_model = pipeline_2.fit(train)\n",
    "pipeline_model.save('/content/drive/MyDrive/pipeline_model')"
   ]
  },
  {
   "cell_type": "code",
   "execution_count": null,
   "metadata": {
    "id": "eh3gF4UNiCIr"
   },
   "outputs": [],
   "source": [
    "model_rf.save('/content/drive/MyDrive/Rfmodel')\n",
    "pred_rf = model_rf.transform(test)"
   ]
  },
  {
   "cell_type": "code",
   "execution_count": null,
   "metadata": {
    "id": "PZ-fkVi3iFVS"
   },
   "outputs": [],
   "source": [
    "evaluator = MulticlassClassificationEvaluator(labelCol='label',predictionCol='prediction')\n",
    "accuracy_dt = evaluator.evaluate(pred_rf)"
   ]
  },
  {
   "cell_type": "code",
   "execution_count": null,
   "metadata": {
    "id": "JZXMcZJjAZ8g"
   },
   "outputs": [],
   "source": [
    "print(\"Accuracy for Random Forest Tree = %s\" % (accuracy_rf))\n",
    "print(\"Test Error for Random Forest Tree = %s\" % (1.0 - accuracy_rf))"
   ]
  }
 ],
 "metadata": {
  "colab": {
   "authorship_tag": "ABX9TyMQ1DGSvg7sD45EbAivag9l",
   "name": "model_save.ipynb",
   "version": ""
  },
  "gpuClass": "standard",
  "kernelspec": {
   "display_name": "Python 3",
   "language": "python",
   "name": "python3"
  },
  "language_info": {
   "codemirror_mode": {
    "name": "ipython",
    "version": 3
   },
   "file_extension": ".py",
   "mimetype": "text/x-python",
   "name": "python",
   "nbconvert_exporter": "python",
   "pygments_lexer": "ipython3",
   "version": "3.8.8"
  }
 },
 "nbformat": 4,
 "nbformat_minor": 1
}
