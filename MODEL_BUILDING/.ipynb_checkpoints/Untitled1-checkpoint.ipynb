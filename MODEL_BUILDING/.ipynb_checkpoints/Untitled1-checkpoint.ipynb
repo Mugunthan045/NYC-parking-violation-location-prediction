{
 "cells": [
  {
   "cell_type": "code",
   "execution_count": null,
   "id": "1ada64ff",
   "metadata": {},
   "outputs": [],
   "source": [
    "import pyspark\n",
    "import pandas as pd\n",
    "import seaborn as sns\n",
    "import matplotlib.pyplot as plt\n",
    "from pyspark.sql import SparkSession\n",
    "from pyspark.sql import functions as func\n",
    "from pyspark.sql.types import IntegerType,StringType,DoubleType\n",
    "from pyspark.ml.stat import Correlation\n",
    "from pyspark.ml.feature import StringIndexer\n",
    "from pyspark.sql import SparkSession\n",
    "from pyspark.ml import Pipeline\n",
    "from pyspark.ml.feature import VectorAssembler\n",
    "from pyspark.ml.classification import RandomForestClassifier\n",
    "from pyspark.ml.evaluation import MulticlassClassificationEvaluator\n",
    "from pyspark.ml.classification import DecisionTreeClassifier\n",
    "from pyspark.sql.functions import split,udf,col,regexp_replace"
   ]
  },
  {
   "cell_type": "code",
   "execution_count": null,
   "id": "2ca39ffd",
   "metadata": {},
   "outputs": [],
   "source": [
    "conf = pyspark.SparkConf().setMaster('local[*]') \\\n",
    "        .set('spark.executor.heartbeatInterval', 10000) \\\n",
    "        .set('spark.network.timeout', 10000) \\\n",
    "        .set('spark.core.connection.ack.wait.timeout', '3600')\n",
    "spark = SparkSession \\\n",
    "        .builder \\\n",
    "        .appName('parking_model') \\\n",
    "        .config(conf=conf) \\\n",
    "        .getOrCreate()"
   ]
  },
  {
   "cell_type": "code",
   "execution_count": null,
   "id": "e3a40989",
   "metadata": {},
   "outputs": [],
   "source": [
    "from pyspark import SparkContext\n",
    "sc = SparkContext.getOrCreate()"
   ]
  },
  {
   "cell_type": "code",
   "execution_count": null,
   "id": "47047840",
   "metadata": {},
   "outputs": [],
   "source": [
    "df = spark.read.csv('./processed_parking.csv',header=True,inferSchema=True)"
   ]
  },
  {
   "cell_type": "code",
   "execution_count": null,
   "id": "0697fa18",
   "metadata": {},
   "outputs": [],
   "source": [
    "index = [StringIndexer(inputCol=column, outputCol=column+\"_index\",handleInvalid='keep').fit(df) for column in list(set(df.columns)-set(['Month','Day','Time_Hour','Violation_County']))]\n",
    "target_index = StringIndexer(inputCol=\"Violation_County\", outputCol=\"label\",handleInvalid='keep').fit(df)\n",
    "assembler = VectorAssembler(inputCols=['Month','Day','Time_Hour','Violation_In_Front_Of_Or_Opposite_index','Street_Code1_index','Issuer_Command_index','Violation_Location_index','Vehicle_Body_Type_index','Meridiem_index','Registration_State_index','Plate_Type_index','Issuer_Precinct_index','Street_Code2_index','Issuing_Agency_index','Violation_Code_index','Vehicle_Make_index','Street_Code3_index'],outputCol='features')"
   ]
  },
  {
   "cell_type": "code",
   "execution_count": null,
   "id": "ed8c89db",
   "metadata": {},
   "outputs": [],
   "source": [
    "pipeline = Pipeline(stages=index+[target_index,assembler])\n",
    "df = pipeline.fit(df).transform(df)"
   ]
  },
  {
   "cell_type": "code",
   "execution_count": null,
   "id": "56cdd5f8",
   "metadata": {},
   "outputs": [],
   "source": [
    "train, test = df.randomSplit([0.8,0.2])"
   ]
  },
  {
   "cell_type": "code",
   "execution_count": null,
   "id": "77d45a42",
   "metadata": {},
   "outputs": [],
   "source": [
    "#creating a small test csv file for testing purpose (kafka,docker)\n",
    "sample_test = test.limit(10000)\n",
    "sample_test = sample_test.drop(*['Registration_State','Plate_Type','Violation_Code','Vehicle_Body_Type','Vehicle_Make','Issuing_Agency','Street_Code1','Street_Code2','Street_Code3','Violation_Location','Issuer_Precinct','Issuer_Command','Violation_County','Violation_In_Front_Of_Or_Opposite','Meridiem','label',\n",
    " 'features'])\n",
    "sample_test.toPandas().to_csv('../sample_test.csv')"
   ]
  },
  {
   "cell_type": "code",
   "execution_count": null,
   "id": "f33873bb",
   "metadata": {},
   "outputs": [],
   "source": [
    "dt = DecisionTreeClassifier(labelCol=\"label\", featuresCol=\"features\",maxBins=6700)\n",
    "model_dt = dt.fit(train)"
   ]
  },
  {
   "cell_type": "code",
   "execution_count": null,
   "id": "123dab63",
   "metadata": {},
   "outputs": [],
   "source": [
    "pred_dt = model_dt.transform(test2)"
   ]
  },
  {
   "cell_type": "code",
   "execution_count": null,
   "id": "d4cc2c95",
   "metadata": {},
   "outputs": [],
   "source": [
    "evaluator = MulticlassClassificationEvaluator(labelCol='label',predictionCol='prediction')\n",
    "accuracy_dt = evaluator.evaluate(pred_dt)\n",
    "print(\"Accuracy for Decision Tree = %s\" % (accuracy_dt))\n",
    "print(\"Test Error for Decision Tree = %s\" % (1.0 - accuracy_dt))"
   ]
  },
  {
   "cell_type": "code",
   "execution_count": null,
   "id": "feddd78f",
   "metadata": {},
   "outputs": [],
   "source": [
    "rf = RandomForestClassifier(maxBins=6700,labelCol=\"label\", featuresCol=\"features\")\n",
    "model_rf = rf.fit(train)"
   ]
  },
  {
   "cell_type": "code",
   "execution_count": null,
   "id": "6a6afe7b",
   "metadata": {},
   "outputs": [],
   "source": [
    "pred_rf = model_rf.transform(test)"
   ]
  },
  {
   "cell_type": "code",
   "execution_count": null,
   "id": "0614b01c",
   "metadata": {},
   "outputs": [],
   "source": [
    "evaluator = MulticlassClassificationEvaluator(labelCol='label',predictionCol='prediction')\n",
    "accuracy_rf = evaluator.evaluate(pred_rf)"
   ]
  },
  {
   "cell_type": "code",
   "execution_count": null,
   "id": "32f025c9",
   "metadata": {},
   "outputs": [],
   "source": [
    "print(\"Accuracy for Random Forest Tree = %s\" % (accuracy_rf))\n",
    "print(\"Test Error for Random Forest Tree = %s\" % (1.0 - accuracy_rf)"
   ]
  }
 ],
 "metadata": {
  "kernelspec": {
   "display_name": "Python 3",
   "language": "python",
   "name": "python3"
  },
  "language_info": {
   "codemirror_mode": {
    "name": "ipython",
    "version": 3
   },
   "file_extension": ".py",
   "mimetype": "text/x-python",
   "name": "python",
   "nbconvert_exporter": "python",
   "pygments_lexer": "ipython3",
   "version": "3.8.8"
  }
 },
 "nbformat": 4,
 "nbformat_minor": 5
}
