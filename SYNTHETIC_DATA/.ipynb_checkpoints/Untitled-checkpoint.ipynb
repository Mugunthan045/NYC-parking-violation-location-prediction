{
 "cells": [
  {
   "cell_type": "code",
   "execution_count": null,
   "id": "733a3f6e",
   "metadata": {},
   "outputs": [],
   "source": [
    "import pandas as pd\n",
    "df = pd.read_csv('../MODEL_BUILDING/processed_parking.csv')"
   ]
  },
  {
   "cell_type": "code",
   "execution_count": null,
   "id": "a77945d0",
   "metadata": {},
   "outputs": [],
   "source": [
    "df = df.head(40000)"
   ]
  },
  {
   "cell_type": "code",
   "execution_count": null,
   "id": "ec2bd5f4",
   "metadata": {},
   "outputs": [],
   "source": [
    "df.shape"
   ]
  },
  {
   "cell_type": "code",
   "execution_count": null,
   "id": "9119bb1f",
   "metadata": {},
   "outputs": [],
   "source": [
    "config = {\n",
    "    \"epochs\": 10,\n",
    "    \"max_line_len\": 2048,\n",
    "    \"vocab_size\": 200000,\n",
    "    \"field_delimiter\": \",\",\n",
    "    \"overwrite\": True,\n",
    "    \"checkpoint_dir\": './checkpoints'\n",
    "}"
   ]
  },
  {
   "cell_type": "code",
   "execution_count": null,
   "id": "a18d340e",
   "metadata": {},
   "outputs": [],
   "source": [
    "#batch_size =  number of columns \n",
    "from gretel_synthetics.batch import DataFrameBatch\n",
    "batcher = DataFrameBatch(df=df, config=config, batch_size=5)"
   ]
  },
  {
   "cell_type": "code",
   "execution_count": null,
   "id": "e73fbd99",
   "metadata": {},
   "outputs": [],
   "source": [
    "batcher.create_training_data()"
   ]
  },
  {
   "cell_type": "code",
   "execution_count": null,
   "id": "5721714b",
   "metadata": {},
   "outputs": [],
   "source": [
    "batcher.train_all_batches()"
   ]
  },
  {
   "cell_type": "code",
   "execution_count": null,
   "id": "e51b12f3",
   "metadata": {},
   "outputs": [],
   "source": [
    "status = batcher.generate_all_batch_lines(num_lines=2000)"
   ]
  },
  {
   "cell_type": "code",
   "execution_count": null,
   "id": "1a489ae5",
   "metadata": {},
   "outputs": [],
   "source": [
    "batcher.batches[0].gen_data_stream.getvalue()"
   ]
  },
  {
   "cell_type": "code",
   "execution_count": null,
   "id": "ad04e4ac",
   "metadata": {},
   "outputs": [],
   "source": [
    "status"
   ]
  },
  {
   "cell_type": "code",
   "execution_count": null,
   "id": "9ed23236",
   "metadata": {},
   "outputs": [],
   "source": [
    "batcher.batches_to_df()"
   ]
  }
 ],
 "metadata": {
  "kernelspec": {
   "display_name": "Python 3",
   "language": "python",
   "name": "python3"
  },
  "language_info": {
   "codemirror_mode": {
    "name": "ipython",
    "version": 3
   },
   "file_extension": ".py",
   "mimetype": "text/x-python",
   "name": "python",
   "nbconvert_exporter": "python",
   "pygments_lexer": "ipython3",
   "version": "3.8.8"
  }
 },
 "nbformat": 4,
 "nbformat_minor": 5
}
