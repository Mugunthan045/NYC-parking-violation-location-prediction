{
 "cells": [
  {
   "cell_type": "code",
   "execution_count": 1,
   "id": "af7436f2",
   "metadata": {},
   "outputs": [],
   "source": [
    "import numpy as np\n",
    "import pandas as pd\n",
    "import shap"
   ]
  },
  {
   "cell_type": "code",
   "execution_count": 2,
   "id": "93339e62",
   "metadata": {},
   "outputs": [],
   "source": [
    "import pyspark\n",
    "from pyspark.sql import SparkSession\n",
    "from pyspark.ml.classification import RandomForestClassificationModel\n",
    "from pyspark.ml import PipelineModel\n",
    "from shapash.explainer.smart_explainer import SmartExplainer\n",
    "import pyspark\n",
    "from pyspark.ml import Pipeline\n",
    "from pyspark.ml.classification import LogisticRegression\n",
    "from pyspark.ml.feature import StringIndexer, OneHotEncoder, VectorAssembler\n",
    "from pyspark.sql.types import *\n",
    "from pyspark.sql.functions import *\n",
    "import pandas as pd\n",
    "import os\n"
   ]
  },
  {
   "cell_type": "code",
   "execution_count": 3,
   "id": "ddfe7f8c",
   "metadata": {},
   "outputs": [],
   "source": [
    "import pyspark\n",
    "spark = pyspark.sql.SparkSession.builder.appName(\"MyApp\") \\\n",
    "            .config(\"spark.jars.packages\", \"com.microsoft.azure:synapseml_2.12:0.10.0\") \\\n",
    "            .config(\"spark.jars.repositories\", \"https://mmlspark.azureedge.net/maven\") \\\n",
    "            .getOrCreate()\n",
    "import synapse.ml"
   ]
  },
  {
   "cell_type": "code",
   "execution_count": 4,
   "id": "2ff8906f",
   "metadata": {},
   "outputs": [],
   "source": [
    "df = spark.read.csv('../MODEL_BUILDING/processed_parking.csv',header=True,inferSchema=True)"
   ]
  },
  {
   "cell_type": "code",
   "execution_count": 5,
   "id": "5e2c19cb",
   "metadata": {},
   "outputs": [],
   "source": [
    "model = PipelineModel.load('../MODELS/PipelineModelRF')"
   ]
  },
  {
   "cell_type": "code",
   "execution_count": null,
   "id": "a9ac21bb",
   "metadata": {},
   "outputs": [],
   "source": [
    "from mmlspark import *\n",
    "from mmlspark import FluentAPI   \n"
   ]
  },
  {
   "cell_type": "code",
   "execution_count": 7,
   "id": "027d08e1",
   "metadata": {},
   "outputs": [
    {
     "data": {
      "text/plain": [
       "DataFrame[Registration_State: string, Plate_Type: string, Violation_Code: int, Vehicle_Body_Type: string, Vehicle_Make: string, Issuing_Agency: string, Street_Code1: int, Street_Code2: int, Street_Code3: int, Violation_Location: int, Issuer_Precinct: int, Issuer_Command: string, Violation_County: string, Violation_In_Front_Of_Or_Opposite: string, Month: double, Day: double, Meridiem: string, Time_Hour: double, Street_Code2_index: double, Vehicle_Make_index: double, Issuer_Precinct_index: double, Registration_State_index: double, Violation_In_Front_Of_Or_Opposite_index: double, Meridiem_index: double, Issuer_Command_index: double, Street_Code1_index: double, Violation_Code_index: double, Street_Code3_index: double, Violation_Location_index: double, Issuing_Agency_index: double, Vehicle_Body_Type_index: double, Plate_Type_index: double, label: double, features: vector, rawPrediction: vector, probability: vector, prediction: double]"
      ]
     },
     "metadata": {},
     "output_type": "display_data"
    }
   ],
   "source": [
    "explain_instances = (\n",
    "    model.transform(df).limit(5).repartition(200).cache() \n",
    ")\n",
    "display(explain_instances)"
   ]
  },
  {
   "cell_type": "code",
   "execution_count": 11,
   "id": "40c4e856",
   "metadata": {},
   "outputs": [
    {
     "data": {
      "text/plain": [
       "8142488"
      ]
     },
     "execution_count": 11,
     "metadata": {},
     "output_type": "execute_result"
    }
   ],
   "source": [
    "df.count()"
   ]
  },
  {
   "cell_type": "code",
   "execution_count": 8,
   "id": "6c984ebd",
   "metadata": {},
   "outputs": [
    {
     "ename": "NameError",
     "evalue": "name 'train' is not defined",
     "output_type": "error",
     "traceback": [
      "\u001b[1;31m---------------------------------------------------------------------------\u001b[0m",
      "\u001b[1;31mNameError\u001b[0m                                 Traceback (most recent call last)",
      "\u001b[1;32m<ipython-input-8-604251d0cd3f>\u001b[0m in \u001b[0;36m<module>\u001b[1;34m\u001b[0m\n\u001b[0;32m      8\u001b[0m     \u001b[0mtargetCol\u001b[0m\u001b[1;33m=\u001b[0m\u001b[1;34m'probability'\u001b[0m\u001b[1;33m,\u001b[0m\u001b[1;33m\u001b[0m\u001b[1;33m\u001b[0m\u001b[0m\n\u001b[0;32m      9\u001b[0m     \u001b[0mtargetClasses\u001b[0m\u001b[1;33m=\u001b[0m\u001b[1;33m[\u001b[0m\u001b[1;36m1\u001b[0m\u001b[1;33m]\u001b[0m\u001b[1;33m,\u001b[0m\u001b[1;33m\u001b[0m\u001b[1;33m\u001b[0m\u001b[0m\n\u001b[1;32m---> 10\u001b[1;33m     \u001b[0mbackgroundData\u001b[0m\u001b[1;33m=\u001b[0m\u001b[0mbroadcast\u001b[0m\u001b[1;33m(\u001b[0m\u001b[0mtrain\u001b[0m\u001b[1;33m.\u001b[0m\u001b[0mlimit\u001b[0m\u001b[1;33m(\u001b[0m\u001b[1;36m100\u001b[0m\u001b[1;33m)\u001b[0m\u001b[1;33m.\u001b[0m\u001b[0mcache\u001b[0m\u001b[1;33m(\u001b[0m\u001b[1;33m)\u001b[0m\u001b[1;33m)\u001b[0m\u001b[1;33m\u001b[0m\u001b[1;33m\u001b[0m\u001b[0m\n\u001b[0m\u001b[0;32m     11\u001b[0m )\n\u001b[0;32m     12\u001b[0m \u001b[0mshap_df\u001b[0m \u001b[1;33m=\u001b[0m \u001b[0mshap\u001b[0m\u001b[1;33m.\u001b[0m\u001b[0mtransform\u001b[0m\u001b[1;33m(\u001b[0m\u001b[0mexplain_instances\u001b[0m\u001b[1;33m)\u001b[0m\u001b[1;33m\u001b[0m\u001b[1;33m\u001b[0m\u001b[0m\n",
      "\u001b[1;31mNameError\u001b[0m: name 'train' is not defined"
     ]
    }
   ],
   "source": [
    "from pyspark.sql.functions import broadcast\n",
    "from synapse.ml.explainers import *\n",
    "shap = TabularSHAP(\n",
    "    inputCols = df.columns,\n",
    "    outputCol = 'shapValues',\n",
    "    numSamples=50000,\n",
    "    model=model,\n",
    "    targetCol='probability',\n",
    "    targetClasses=[1],\n",
    "    backgroundData=broadcast(train.limit(100).cache())\n",
    ")\n",
    "shap_df = shap.transform(explain_instances)"
   ]
  },
  {
   "cell_type": "code",
   "execution_count": null,
   "id": "ee510a76",
   "metadata": {},
   "outputs": [],
   "source": [
    "vec_access = udf(lambda v, i: float(v[i]), FloatType())\n",
    "vec2array = udf(lambda vec: vec.toArray().tolist(), ArrayType(FloatType()))\n",
    "shaps = (\n",
    "    shap_df.withColumn(\"probability\", vec_access(col(\"probability\"), lit(1)))\n",
    "    .withColumn(\"shapValues\", vec2array(col(\"shapValues\").getItem(0)))\n",
    "    .select(\n",
    "        [\"shapValues\", \"probability\", \"label\"] + df.columns\n",
    "    )\n",
    ")\n",
    "\n"
   ]
  },
  {
   "cell_type": "code",
   "execution_count": null,
   "id": "f00cb2c4",
   "metadata": {},
   "outputs": [],
   "source": [
    "shaps.columns"
   ]
  },
  {
   "cell_type": "code",
   "execution_count": null,
   "id": "67c996f6",
   "metadata": {},
   "outputs": [],
   "source": [
    "shaps_local = shaps.toPandas()\n",
    "shaps_local.sort_values(\"probability\", ascending=False, inplace=True, ignore_index=True)\n",
    "pd.set_option(\"display.max_colwidth\", None)\n",
    "shaps_local"
   ]
  },
  {
   "cell_type": "code",
   "execution_count": null,
   "id": "32f6f46d",
   "metadata": {},
   "outputs": [],
   "source": []
  }
 ],
 "metadata": {
  "kernelspec": {
   "display_name": "Python 3",
   "language": "python",
   "name": "python3"
  },
  "language_info": {
   "codemirror_mode": {
    "name": "ipython",
    "version": 3
   },
   "file_extension": ".py",
   "mimetype": "text/x-python",
   "name": "python",
   "nbconvert_exporter": "python",
   "pygments_lexer": "ipython3",
   "version": "3.8.8"
  }
 },
 "nbformat": 4,
 "nbformat_minor": 5
}
